{
 "cells": [
  {
   "cell_type": "markdown",
   "id": "4f720bdd",
   "metadata": {},
   "source": [
    "# Python Workshop"
   ]
  },
  {
   "cell_type": "markdown",
   "id": "8b8db84b",
   "metadata": {},
   "source": [
    "This workshop will cover the essentials Python for data science, including the Pandas library for data exploration, Numpy for arrays and linear algebra operations, and Matplotlib and Seaborn for data visualization. Participants will learn how to import and work with data sets, perform basic operations on arrays, and create custom visualizations to represent their findings."
   ]
  },
  {
   "cell_type": "markdown",
   "id": "e70e2734",
   "metadata": {},
   "source": [
    "Before we can use any of these libraries, we must import them. To import a library you have use the `import` statement followed by the library name. You can then give it an alias using the `as` statement, such as `pd` for Pandas, `np` for Numpy, `plt` for Matplotlib's Pyplot, and `sns` for Seaborn."
   ]
  },
  {
   "cell_type": "code",
   "execution_count": 1,
   "id": "4f1b7129",
   "metadata": {},
   "outputs": [],
   "source": [
    "# Importing libraries\n",
    "import pandas as pd\n",
    "import numpy as np\n",
    "import matplotlib.pyplot as plt\n",
    "import seaborn as sns"
   ]
  },
  {
   "cell_type": "markdown",
   "id": "27317257",
   "metadata": {},
   "source": [
    "Before diving into the data, we will review the basics."
   ]
  },
  {
   "cell_type": "markdown",
   "id": "dcbba8b9",
   "metadata": {},
   "source": [
    "## Review of the Basics"
   ]
  },
  {
   "cell_type": "markdown",
   "id": "48a513bd",
   "metadata": {},
   "source": [
    "In this section, we shall review variables, data types, loops, functions, lists and dictionaries."
   ]
  },
  {
   "cell_type": "code",
   "execution_count": 2,
   "id": "efeb331e",
   "metadata": {
    "scrolled": false
   },
   "outputs": [],
   "source": [
    "# Assign a value to a variable\n",
    "x = 10\n",
    "y = 5"
   ]
  },
  {
   "cell_type": "code",
   "execution_count": 3,
   "id": "8cc8d696",
   "metadata": {
    "scrolled": false
   },
   "outputs": [],
   "source": [
    "# Data types\n",
    "a = 'Hello, World!' # string\n",
    "b = 20 # integer\n",
    "c = 20.5 # float\n",
    "d = True # boolean"
   ]
  },
  {
   "cell_type": "code",
   "execution_count": 4,
   "id": "e2864cce",
   "metadata": {
    "scrolled": false
   },
   "outputs": [],
   "source": [
    "# Basic arithmetic operations\n",
    "sum = x + y\n",
    "diff = x - y\n",
    "product = x * y\n",
    "quotient = x / y"
   ]
  },
  {
   "cell_type": "code",
   "execution_count": 5,
   "id": "b995eccb",
   "metadata": {
    "scrolled": false
   },
   "outputs": [
    {
     "name": "stdout",
     "output_type": "stream",
     "text": [
      "x is greater than y\n"
     ]
    }
   ],
   "source": [
    "# Conditional statements\n",
    "if x > y:\n",
    "  print('x is greater than y')\n",
    "elif x == y:\n",
    "  print('x is equal to y')\n",
    "else:\n",
    "  print('x is less than y')"
   ]
  },
  {
   "cell_type": "code",
   "execution_count": 6,
   "id": "76154aa4",
   "metadata": {
    "scrolled": false
   },
   "outputs": [
    {
     "name": "stdout",
     "output_type": "stream",
     "text": [
      "0\n",
      "1\n",
      "2\n",
      "3\n",
      "4\n"
     ]
    }
   ],
   "source": [
    "# Loops\n",
    "for i in range(5):\n",
    "  print(i)"
   ]
  },
  {
   "cell_type": "code",
   "execution_count": 7,
   "id": "19e068bc",
   "metadata": {
    "scrolled": false
   },
   "outputs": [
    {
     "name": "stdout",
     "output_type": "stream",
     "text": [
      "15\n"
     ]
    }
   ],
   "source": [
    "# Functions\n",
    "def add_numbers(x, y):\n",
    "  return x + y\n",
    "\n",
    "result = add_numbers(x, y)\n",
    "print(result)"
   ]
  },
  {
   "cell_type": "code",
   "execution_count": 8,
   "id": "faf4c0dc",
   "metadata": {
    "scrolled": false
   },
   "outputs": [
    {
     "name": "stdout",
     "output_type": "stream",
     "text": [
      "1\n",
      "3\n",
      "1\n",
      "2\n",
      "3\n",
      "4\n",
      "5\n"
     ]
    }
   ],
   "source": [
    "# Lists\n",
    "f = [1, 2, 3, 4, 5]\n",
    "\n",
    "# Accessing values in a list\n",
    "print(f[0]) # prints 1\n",
    "print(f[2]) # prints 3\n",
    "\n",
    "# Looping through a list\n",
    "for item in f:\n",
    "  print(item)"
   ]
  },
  {
   "cell_type": "code",
   "execution_count": 9,
   "id": "0ca90289",
   "metadata": {
    "scrolled": false
   },
   "outputs": [
    {
     "name": "stdout",
     "output_type": "stream",
     "text": [
      "John Doe\n",
      "30\n",
      "USA\n"
     ]
    }
   ],
   "source": [
    "# Dictionaries\n",
    "e = {\n",
    "  'name': 'John Doe',\n",
    "  'age': 30,\n",
    "  'country': 'USA'\n",
    "}\n",
    "\n",
    "# Accessing values in a dictionary\n",
    "print(e['name'])\n",
    "print(e['age'])\n",
    "print(e['country'])"
   ]
  },
  {
   "cell_type": "markdown",
   "id": "331abfb4",
   "metadata": {},
   "source": [
    "## Introduction to Pandas"
   ]
  },
  {
   "cell_type": "markdown",
   "id": "a9badcdc",
   "metadata": {},
   "source": [
    "Pandas is a popular open-source library in Python for data analysis and manipulation. It provides data structures for efficiently storing large datasets and tools for working with them.\n",
    "\n",
    "Series and data frames are the two most important objects\n",
    "in the Pandas library. They are used to store information in an indexed manner, and they integrate very well with basic Python. Since data frames are essentially a collection of series in Pandas, we shall cover series first before getting into data frames."
   ]
  },
  {
   "cell_type": "markdown",
   "id": "8e2ed0e9",
   "metadata": {},
   "source": [
    "### Creating Pandas Series"
   ]
  },
  {
   "cell_type": "markdown",
   "id": "0e26cf8a",
   "metadata": {},
   "source": [
    "A Pandas series is a 1-dimensional labeled array-like object capable of holding any data type. For simplicities sake, you can think of series like a list in Python, but each element of that list has its own label. We can make series with both lists and dictionaries as shown below."
   ]
  },
  {
   "cell_type": "code",
   "execution_count": 11,
   "id": "bfb849c5",
   "metadata": {
    "scrolled": false
   },
   "outputs": [
    {
     "data": {
      "text/plain": [
       "0    1\n",
       "1    2\n",
       "2    3\n",
       "3    4\n",
       "4    5\n",
       "dtype: int64"
      ]
     },
     "execution_count": 11,
     "metadata": {},
     "output_type": "execute_result"
    }
   ],
   "source": [
    "# Creating a series from a list\n",
    "data = [1, 2, 3, 4, 5]\n",
    "pd.Series(data)"
   ]
  },
  {
   "cell_type": "code",
   "execution_count": 12,
   "id": "314af099",
   "metadata": {
    "scrolled": false
   },
   "outputs": [
    {
     "data": {
      "text/plain": [
       "a    1\n",
       "b    2\n",
       "c    3\n",
       "d    4\n",
       "e    5\n",
       "dtype: int64"
      ]
     },
     "execution_count": 12,
     "metadata": {},
     "output_type": "execute_result"
    }
   ],
   "source": [
    "# Creating a series from a dictionary\n",
    "data = {'a': 1, 'b': 2, 'c': 3, 'd': 4, 'e': 5}\n",
    "pd.Series(data)"
   ]
  },
  {
   "cell_type": "markdown",
   "id": "f0e8330a",
   "metadata": {},
   "source": [
    "Notice how when the dictionary was passed in, the index labels were determined by the keys in the dictionary. We can do the same with the list by passing in another list corresponding to the labels."
   ]
  },
  {
   "cell_type": "code",
   "execution_count": 13,
   "id": "b05e86e8",
   "metadata": {
    "scrolled": false
   },
   "outputs": [
    {
     "data": {
      "text/plain": [
       "a    1\n",
       "b    2\n",
       "c    3\n",
       "d    4\n",
       "e    5\n",
       "dtype: int64"
      ]
     },
     "execution_count": 13,
     "metadata": {},
     "output_type": "execute_result"
    }
   ],
   "source": [
    "# Creating a list\n",
    "data = [1, 2, 3, 4, 5]\n",
    "# Creating an index (labels) for the list\n",
    "labels = ['a', 'b', 'c', 'd', 'e']\n",
    "\n",
    "# Creating a series from a list with an index\n",
    "pd.Series(data, index = labels)"
   ]
  },
  {
   "cell_type": "markdown",
   "id": "51503c76",
   "metadata": {},
   "source": [
    "By passing in an index, we can achieve the same result as we did with the dictionary. This brings up an important aspect of the series called the index. Every Pandas series has an index which allows for the access of the elements the series stores. The index of a series can be retrived as follows."
   ]
  },
  {
   "cell_type": "code",
   "execution_count": 14,
   "id": "3f40e924",
   "metadata": {
    "scrolled": false
   },
   "outputs": [
    {
     "data": {
      "text/plain": [
       "Index(['a', 'b', 'c', 'd', 'e'], dtype='object')"
      ]
     },
     "execution_count": 14,
     "metadata": {},
     "output_type": "execute_result"
    }
   ],
   "source": [
    "# Creating a series using the data from the previous\n",
    "s = pd.Series(data, index = labels)\n",
    "\n",
    "# Getting the index object\n",
    "s.index"
   ]
  },
  {
   "cell_type": "markdown",
   "id": "2d2bd374",
   "metadata": {},
   "source": [
    "### Accessing Pandas Series"
   ]
  },
  {
   "cell_type": "markdown",
   "id": "b0561f16",
   "metadata": {},
   "source": [
    "Now that we have gone over what a series is and how to create one, lets go over how to access it. There are multiple ways to access the elements of series, which we will demonstrate below using the series s."
   ]
  },
  {
   "cell_type": "code",
   "execution_count": 15,
   "id": "e161a12c",
   "metadata": {
    "scrolled": false
   },
   "outputs": [
    {
     "data": {
      "text/plain": [
       "a    1\n",
       "b    2\n",
       "c    3\n",
       "d    4\n",
       "e    5\n",
       "dtype: int64"
      ]
     },
     "execution_count": 15,
     "metadata": {},
     "output_type": "execute_result"
    }
   ],
   "source": [
    "# Recall the series s\n",
    "s"
   ]
  },
  {
   "cell_type": "code",
   "execution_count": 16,
   "id": "db9e0aa5",
   "metadata": {
    "scrolled": false
   },
   "outputs": [
    {
     "name": "stdout",
     "output_type": "stream",
     "text": [
      "2\n",
      "2\n"
     ]
    }
   ],
   "source": [
    "# Getting the element at the second index position\n",
    "print(s.iloc[1])\n",
    "\n",
    "# An alternative approach\n",
    "print(s[1])"
   ]
  },
  {
   "cell_type": "code",
   "execution_count": 17,
   "id": "656773a0",
   "metadata": {
    "scrolled": false
   },
   "outputs": [
    {
     "name": "stdout",
     "output_type": "stream",
     "text": [
      "2\n",
      "2\n"
     ]
    }
   ],
   "source": [
    "# Getting the element with index label b\n",
    "print(s.loc['b'])\n",
    "\n",
    "# An alternative approach\n",
    "print(s['b'])"
   ]
  },
  {
   "cell_type": "markdown",
   "id": "c42cc53f",
   "metadata": {},
   "source": [
    "As you can see, you can retrieve an element by it index position using `.iloc[]`, by index label using `.loc[]`, or by either by just using `[]`. Although just using `[]` will work in both case, it is reccomended to use `.iloc[]` and `.loc[]` instead. \n",
    "\n",
    "You can also retrive multiple elements from a series using a slice. To slice a series, pass in the colon `:` operator inside the index operator `[]`, with the first and last elements you want on either side of the `:`. Make sure to remember that a slice will include the element you provide an index for, and go upto but not include the last element you provide an index for, unless you are using an index label (i.e. `.loc[]`)."
   ]
  },
  {
   "cell_type": "code",
   "execution_count": 18,
   "id": "071a5cdb",
   "metadata": {
    "scrolled": false
   },
   "outputs": [
    {
     "data": {
      "text/plain": [
       "a    1\n",
       "b    2\n",
       "dtype: int64"
      ]
     },
     "execution_count": 18,
     "metadata": {},
     "output_type": "execute_result"
    }
   ],
   "source": [
    "# Getting the first two elements of series s\n",
    "s.iloc[0:2]"
   ]
  },
  {
   "cell_type": "code",
   "execution_count": 62,
   "id": "f4396f54",
   "metadata": {
    "scrolled": false
   },
   "outputs": [
    {
     "data": {
      "text/plain": [
       "b    2\n",
       "c    3\n",
       "d    4\n",
       "dtype: int64"
      ]
     },
     "execution_count": 62,
     "metadata": {},
     "output_type": "execute_result"
    }
   ],
   "source": [
    "# Getting elements at index label b to d of series s\n",
    "s.loc['b':'d']"
   ]
  },
  {
   "cell_type": "markdown",
   "id": "79e695e7",
   "metadata": {},
   "source": [
    "Using our ability to access the data in a series, we can change the elements they store. To do this we simply access the series series using one `iloc[]`, `.loc[]`, or `[]` and assgin it a new value."
   ]
  },
  {
   "cell_type": "code",
   "execution_count": 64,
   "id": "96b01515",
   "metadata": {},
   "outputs": [
    {
     "data": {
      "text/plain": [
       "a    1\n",
       "b    2\n",
       "c    3\n",
       "d    4\n",
       "e    5\n",
       "dtype: int64"
      ]
     },
     "execution_count": 64,
     "metadata": {},
     "output_type": "execute_result"
    }
   ],
   "source": [
    "# Recall series s\n",
    "s"
   ]
  },
  {
   "cell_type": "code",
   "execution_count": 65,
   "id": "6d2ef12b",
   "metadata": {},
   "outputs": [],
   "source": [
    "# Changing the element at index label c to be the word three\n",
    "s.loc['c'] = 'Three'"
   ]
  },
  {
   "cell_type": "code",
   "execution_count": 66,
   "id": "471ead11",
   "metadata": {},
   "outputs": [
    {
     "data": {
      "text/plain": [
       "a        1\n",
       "b        2\n",
       "c    Three\n",
       "d        4\n",
       "e        5\n",
       "dtype: object"
      ]
     },
     "execution_count": 66,
     "metadata": {},
     "output_type": "execute_result"
    }
   ],
   "source": [
    "# Ouputting our modified series\n",
    "s"
   ]
  },
  {
   "cell_type": "markdown",
   "id": "9d5bcc1d",
   "metadata": {},
   "source": [
    "### Series Functionality"
   ]
  },
  {
   "cell_type": "markdown",
   "id": "cc7afe6e",
   "metadata": {},
   "source": [
    "The main functionality panda's series have to offer, is that they allow for elementwise comparisons and operations. \n",
    "\n",
    "First, let's look at boolean comparisons. For a series we can take a normal boolean comparison, like `> 3`, and apply it to each element of the series. We can try this with series s."
   ]
  },
  {
   "cell_type": "code",
   "execution_count": 68,
   "id": "e4cee669",
   "metadata": {},
   "outputs": [
    {
     "data": {
      "text/plain": [
       "a    1\n",
       "b    2\n",
       "c    3\n",
       "d    4\n",
       "e    5\n",
       "dtype: int64"
      ]
     },
     "execution_count": 68,
     "metadata": {},
     "output_type": "execute_result"
    }
   ],
   "source": [
    "# Creating a new series\n",
    "data = {'a': 1, 'b': 2, 'c': 3, 'd': 4, 'e': 5}\n",
    "s = pd.Series(data)\n",
    "\n",
    "s"
   ]
  },
  {
   "cell_type": "code",
   "execution_count": 69,
   "id": "7f94bc4a",
   "metadata": {},
   "outputs": [
    {
     "data": {
      "text/plain": [
       "a    False\n",
       "b    False\n",
       "c    False\n",
       "d     True\n",
       "e     True\n",
       "dtype: bool"
      ]
     },
     "execution_count": 69,
     "metadata": {},
     "output_type": "execute_result"
    }
   ],
   "source": [
    "# Checking which elements are greater than 3\n",
    "s > 3"
   ]
  },
  {
   "cell_type": "markdown",
   "id": "a09eed07",
   "metadata": {},
   "source": [
    "As you can see by the output, this comparison was applied to each element, and a true or false value was return from the comparison. This is what is called a boolean mask. These are very useful for retrieving certain elements which meet a specific condition. With these masks, we can then pass them back into the index operators `[]`, and retrieve all the elements for which the condition is true for."
   ]
  },
  {
   "cell_type": "code",
   "execution_count": 70,
   "id": "2efd756f",
   "metadata": {},
   "outputs": [
    {
     "data": {
      "text/plain": [
       "d    4\n",
       "e    5\n",
       "dtype: int64"
      ]
     },
     "execution_count": 70,
     "metadata": {},
     "output_type": "execute_result"
    }
   ],
   "source": [
    "# Getting all elements which are greater than 3\n",
    "s[s > 3]"
   ]
  },
  {
   "cell_type": "markdown",
   "id": "c13b787a",
   "metadata": {},
   "source": [
    "This elementwise functionality of Pandas series also allows us to apply operations to each element. For the same series `s` we can add, subtract, multiply, and divide each element. There are many different kinds of operations we can apply to each element, however we are only going to demonstrate addition and multiplication. To add 2 to each element of series `s`, we can perform the following."
   ]
  },
  {
   "cell_type": "code",
   "execution_count": 71,
   "id": "6c9d7e68",
   "metadata": {},
   "outputs": [
    {
     "data": {
      "text/plain": [
       "a    1\n",
       "b    2\n",
       "c    3\n",
       "d    4\n",
       "e    5\n",
       "dtype: int64"
      ]
     },
     "execution_count": 71,
     "metadata": {},
     "output_type": "execute_result"
    }
   ],
   "source": [
    "# Recall series s\n",
    "s"
   ]
  },
  {
   "cell_type": "code",
   "execution_count": 72,
   "id": "90afac22",
   "metadata": {},
   "outputs": [
    {
     "data": {
      "text/plain": [
       "a    3\n",
       "b    4\n",
       "c    5\n",
       "d    6\n",
       "e    7\n",
       "dtype: int64"
      ]
     },
     "execution_count": 72,
     "metadata": {},
     "output_type": "execute_result"
    }
   ],
   "source": [
    "# Adding 2 to each element of s\n",
    "s + 2"
   ]
  },
  {
   "cell_type": "markdown",
   "id": "daea0838",
   "metadata": {},
   "source": [
    "Instead of adding 2 to each element, we could by 2 multiply instead."
   ]
  },
  {
   "cell_type": "code",
   "execution_count": 73,
   "id": "1fc2c076",
   "metadata": {},
   "outputs": [
    {
     "data": {
      "text/plain": [
       "a     2\n",
       "b     4\n",
       "c     6\n",
       "d     8\n",
       "e    10\n",
       "dtype: int64"
      ]
     },
     "execution_count": 73,
     "metadata": {},
     "output_type": "execute_result"
    }
   ],
   "source": [
    "# Multiplying each element of s by 2\n",
    "s * 2"
   ]
  },
  {
   "cell_type": "markdown",
   "id": "0ee39541",
   "metadata": {},
   "source": [
    "Lastly, Pandas series also offer methods to compute sample statistics of the elements in the series. This allows us to calculate the sample mean, median, standard deviation, and many other sample statistics.\n",
    "\n",
    "To demostrate this functionality, consider the following series `s`."
   ]
  },
  {
   "cell_type": "code",
   "execution_count": 74,
   "id": "1d7cb69a",
   "metadata": {},
   "outputs": [
    {
     "data": {
      "text/plain": [
       "0    16\n",
       "1    23\n",
       "2    32\n",
       "3    20\n",
       "4    10\n",
       "5    17\n",
       "6    30\n",
       "7    90\n",
       "dtype: int64"
      ]
     },
     "execution_count": 74,
     "metadata": {},
     "output_type": "execute_result"
    }
   ],
   "source": [
    "# Creating a new series\n",
    "data = [16, 23, 32, 20, 10, 17, 30, 90]\n",
    "s = pd.Series(data)\n",
    "\n",
    "s"
   ]
  },
  {
   "cell_type": "markdown",
   "id": "2f3e949d",
   "metadata": {},
   "source": [
    "We can calculate the mean and median of this series using the `.mean()` and `.median()` functions. As we would suspect, the median is significantly small than the mean because there is one large outlier."
   ]
  },
  {
   "cell_type": "code",
   "execution_count": 77,
   "id": "f18f457b",
   "metadata": {},
   "outputs": [
    {
     "data": {
      "text/plain": [
       "29.75"
      ]
     },
     "execution_count": 77,
     "metadata": {},
     "output_type": "execute_result"
    }
   ],
   "source": [
    "# Calculating the mean of s\n",
    "s.mean()"
   ]
  },
  {
   "cell_type": "code",
   "execution_count": 78,
   "id": "e163aed6",
   "metadata": {},
   "outputs": [
    {
     "data": {
      "text/plain": [
       "21.5"
      ]
     },
     "execution_count": 78,
     "metadata": {},
     "output_type": "execute_result"
    }
   ],
   "source": [
    "# Calculating the median of s\n",
    "s.median()"
   ]
  },
  {
   "cell_type": "markdown",
   "id": "48de188d",
   "metadata": {},
   "source": [
    "All of these sample statistics can also be calculated with the `.describe()` function as shown below."
   ]
  },
  {
   "cell_type": "code",
   "execution_count": 34,
   "id": "9ce592bb",
   "metadata": {},
   "outputs": [
    {
     "data": {
      "text/plain": [
       "count     8.00000\n",
       "mean     29.75000\n",
       "std      25.40388\n",
       "min      10.00000\n",
       "25%      16.75000\n",
       "50%      21.50000\n",
       "75%      30.50000\n",
       "max      90.00000\n",
       "dtype: float64"
      ]
     },
     "execution_count": 34,
     "metadata": {},
     "output_type": "execute_result"
    }
   ],
   "source": [
    "# Calculating sample statistics of s\n",
    "s.describe()"
   ]
  },
  {
   "cell_type": "markdown",
   "id": "0ab280eb",
   "metadata": {},
   "source": [
    "### Creating Pandas Data Frame"
   ]
  },
  {
   "cell_type": "markdown",
   "id": "0e19d8ed",
   "metadata": {},
   "source": [
    "A Pandas data frame is a type of data structure used to store and manipulate data in tables, with labeled rows and columns. For simplicities sake, you can think of a data frame like like a bunch of series all with the same index, and that same index will become the column labels. \n",
    "\n",
    "We can make data frames with both lists and dictionaries. However, it is easiest if we use a dictionary storing lists. Let's look at a basic example below."
   ]
  },
  {
   "cell_type": "code",
   "execution_count": 19,
   "id": "f3d898c9",
   "metadata": {
    "scrolled": false
   },
   "outputs": [],
   "source": [
    "# Creating a Pandas data frame with a dictionary\n",
    "df = pd.DataFrame({\n",
    "    'Name': ['John', 'Jane', 'Jim', 'Joan'],\n",
    "    'Age': [30, 28, 35, 40],\n",
    "    'Country': ['USA', 'Canada', 'UK', 'Australia']\n",
    "})"
   ]
  },
  {
   "cell_type": "markdown",
   "id": "ef92fc07",
   "metadata": {},
   "source": [
    "To create this data frame, we passed a dictionary with keys `Name`, `Age` and `Country` which all will become column labels. The values stored corresponding to these keys are lists. Each list will be stored in the column that corresponds to its key in the dictionary. To better understand what is going on, let's look at the actual data frame."
   ]
  },
  {
   "cell_type": "code",
   "execution_count": 20,
   "id": "5ee145e9",
   "metadata": {},
   "outputs": [
    {
     "data": {
      "text/html": [
       "<div>\n",
       "<style scoped>\n",
       "    .dataframe tbody tr th:only-of-type {\n",
       "        vertical-align: middle;\n",
       "    }\n",
       "\n",
       "    .dataframe tbody tr th {\n",
       "        vertical-align: top;\n",
       "    }\n",
       "\n",
       "    .dataframe thead th {\n",
       "        text-align: right;\n",
       "    }\n",
       "</style>\n",
       "<table border=\"1\" class=\"dataframe\">\n",
       "  <thead>\n",
       "    <tr style=\"text-align: right;\">\n",
       "      <th></th>\n",
       "      <th>Name</th>\n",
       "      <th>Age</th>\n",
       "      <th>Country</th>\n",
       "    </tr>\n",
       "  </thead>\n",
       "  <tbody>\n",
       "    <tr>\n",
       "      <th>0</th>\n",
       "      <td>John</td>\n",
       "      <td>30</td>\n",
       "      <td>USA</td>\n",
       "    </tr>\n",
       "    <tr>\n",
       "      <th>1</th>\n",
       "      <td>Jane</td>\n",
       "      <td>28</td>\n",
       "      <td>Canada</td>\n",
       "    </tr>\n",
       "    <tr>\n",
       "      <th>2</th>\n",
       "      <td>Jim</td>\n",
       "      <td>35</td>\n",
       "      <td>UK</td>\n",
       "    </tr>\n",
       "    <tr>\n",
       "      <th>3</th>\n",
       "      <td>Joan</td>\n",
       "      <td>40</td>\n",
       "      <td>Australia</td>\n",
       "    </tr>\n",
       "  </tbody>\n",
       "</table>\n",
       "</div>"
      ],
      "text/plain": [
       "   Name  Age    Country\n",
       "0  John   30        USA\n",
       "1  Jane   28     Canada\n",
       "2   Jim   35         UK\n",
       "3  Joan   40  Australia"
      ]
     },
     "execution_count": 20,
     "metadata": {},
     "output_type": "execute_result"
    }
   ],
   "source": [
    "# Print the data frame\n",
    "df"
   ]
  },
  {
   "cell_type": "markdown",
   "id": "50ab24b7",
   "metadata": {},
   "source": [
    "As you can see by the output, each element in the dictionary becomes its own column. Just like series, data frames have index which can be retrieved using `.index` attribute."
   ]
  },
  {
   "cell_type": "code",
   "execution_count": 21,
   "id": "87c93b92",
   "metadata": {
    "scrolled": false
   },
   "outputs": [
    {
     "data": {
      "text/plain": [
       "RangeIndex(start=0, stop=4, step=1)"
      ]
     },
     "execution_count": 21,
     "metadata": {},
     "output_type": "execute_result"
    }
   ],
   "source": [
    "# Getting data frame index\n",
    "df.index"
   ]
  },
  {
   "cell_type": "markdown",
   "id": "61a9c724",
   "metadata": {},
   "source": [
    "If we would like to view this index as a list instead of a range, we can use the `.to_list()`."
   ]
  },
  {
   "cell_type": "code",
   "execution_count": 22,
   "id": "46a28d00",
   "metadata": {},
   "outputs": [
    {
     "data": {
      "text/plain": [
       "[0, 1, 2, 3]"
      ]
     },
     "execution_count": 22,
     "metadata": {},
     "output_type": "execute_result"
    }
   ],
   "source": [
    "# Getting data frame index as a list\n",
    "df.index.to_list()"
   ]
  },
  {
   "cell_type": "markdown",
   "id": "e94b43e8",
   "metadata": {},
   "source": [
    "On top of this, Pandas data frames also have a column index. To retrieve the column index, we can use `.columns` attribute."
   ]
  },
  {
   "cell_type": "code",
   "execution_count": 23,
   "id": "6ee3a56e",
   "metadata": {},
   "outputs": [
    {
     "data": {
      "text/plain": [
       "Index(['Name', 'Age', 'Country'], dtype='object')"
      ]
     },
     "execution_count": 23,
     "metadata": {},
     "output_type": "execute_result"
    }
   ],
   "source": [
    "# Getting column labels of data frame\n",
    "df.columns"
   ]
  },
  {
   "cell_type": "markdown",
   "id": "2eb3b37c",
   "metadata": {},
   "source": [
    "### Accessing Pandas Data Frame"
   ]
  },
  {
   "cell_type": "markdown",
   "id": "02bad4a7",
   "metadata": {},
   "source": [
    "Now that we have gone over what a data frame is and how to create one, lets go over how to access it. There are multiple ways to access the elements of data frame, which we will demonstrate below using the data frame `df`."
   ]
  },
  {
   "cell_type": "code",
   "execution_count": 24,
   "id": "84f217c5",
   "metadata": {},
   "outputs": [
    {
     "data": {
      "text/html": [
       "<div>\n",
       "<style scoped>\n",
       "    .dataframe tbody tr th:only-of-type {\n",
       "        vertical-align: middle;\n",
       "    }\n",
       "\n",
       "    .dataframe tbody tr th {\n",
       "        vertical-align: top;\n",
       "    }\n",
       "\n",
       "    .dataframe thead th {\n",
       "        text-align: right;\n",
       "    }\n",
       "</style>\n",
       "<table border=\"1\" class=\"dataframe\">\n",
       "  <thead>\n",
       "    <tr style=\"text-align: right;\">\n",
       "      <th></th>\n",
       "      <th>Name</th>\n",
       "      <th>Age</th>\n",
       "      <th>Country</th>\n",
       "    </tr>\n",
       "  </thead>\n",
       "  <tbody>\n",
       "    <tr>\n",
       "      <th>0</th>\n",
       "      <td>John</td>\n",
       "      <td>30</td>\n",
       "      <td>USA</td>\n",
       "    </tr>\n",
       "    <tr>\n",
       "      <th>1</th>\n",
       "      <td>Jane</td>\n",
       "      <td>28</td>\n",
       "      <td>Canada</td>\n",
       "    </tr>\n",
       "    <tr>\n",
       "      <th>2</th>\n",
       "      <td>Jim</td>\n",
       "      <td>35</td>\n",
       "      <td>UK</td>\n",
       "    </tr>\n",
       "    <tr>\n",
       "      <th>3</th>\n",
       "      <td>Joan</td>\n",
       "      <td>40</td>\n",
       "      <td>Australia</td>\n",
       "    </tr>\n",
       "  </tbody>\n",
       "</table>\n",
       "</div>"
      ],
      "text/plain": [
       "   Name  Age    Country\n",
       "0  John   30        USA\n",
       "1  Jane   28     Canada\n",
       "2   Jim   35         UK\n",
       "3  Joan   40  Australia"
      ]
     },
     "execution_count": 24,
     "metadata": {},
     "output_type": "execute_result"
    }
   ],
   "source": [
    "# Recall the data frame\n",
    "df"
   ]
  },
  {
   "cell_type": "markdown",
   "id": "3fc2ff5e",
   "metadata": {},
   "source": [
    "Similar to series, `.iloc[]`, and `.loc[]` can all be used to access the elements of a data frame. However, instead only providing one index to retrieve a single element like you did with series, you now have to provide two. The first index passed in will correspond to the row, and the second index will correspond to the column, and they should be seperate by a comma.\n",
    "\n",
    "Let's try getting the `Age` of `Jim` from data frame above"
   ]
  },
  {
   "cell_type": "code",
   "execution_count": 25,
   "id": "2dda253f",
   "metadata": {},
   "outputs": [
    {
     "data": {
      "text/plain": [
       "35"
      ]
     },
     "execution_count": 25,
     "metadata": {},
     "output_type": "execute_result"
    }
   ],
   "source": [
    "# Getting the Age of Jim by index label\n",
    "df.loc[2, 'Age']"
   ]
  },
  {
   "cell_type": "code",
   "execution_count": 26,
   "id": "1e3830ed",
   "metadata": {},
   "outputs": [
    {
     "data": {
      "text/plain": [
       "35"
      ]
     },
     "execution_count": 26,
     "metadata": {},
     "output_type": "execute_result"
    }
   ],
   "source": [
    "# Getting the Age of Jim by index position\n",
    "df.iloc[2, 1]"
   ]
  },
  {
   "cell_type": "markdown",
   "id": "af2ef174",
   "metadata": {},
   "source": [
    "As you can see, to retrieve an element in a data frame, you can use both the index label or the index position. If you decide to use the index position with `.iloc[]`, try to remember that the index positions start at 0 and not 1."
   ]
  },
  {
   "cell_type": "markdown",
   "id": "357abc86",
   "metadata": {},
   "source": [
    "Pandas data frames also allow you to return entire columns too. To do this, the index operator `[]`, `.iloc[]`, and `.loc[]` will all work. As an example, let's retrieve the `Country` column from the data frame."
   ]
  },
  {
   "cell_type": "code",
   "execution_count": 85,
   "id": "66ec5e83",
   "metadata": {},
   "outputs": [
    {
     "data": {
      "text/plain": [
       "0          USA\n",
       "1       Canada\n",
       "2           UK\n",
       "3    Australia\n",
       "Name: Country, dtype: object"
      ]
     },
     "execution_count": 85,
     "metadata": {},
     "output_type": "execute_result"
    }
   ],
   "source": [
    "# Getting the Country column by index label\n",
    "df['Country']"
   ]
  },
  {
   "cell_type": "code",
   "execution_count": 86,
   "id": "ffa7cd29",
   "metadata": {},
   "outputs": [
    {
     "data": {
      "text/plain": [
       "0          USA\n",
       "1       Canada\n",
       "2           UK\n",
       "3    Australia\n",
       "Name: Country, dtype: object"
      ]
     },
     "execution_count": 86,
     "metadata": {},
     "output_type": "execute_result"
    }
   ],
   "source": [
    "# Getting the Country column by index label\n",
    "df.loc[:, 'Country']"
   ]
  },
  {
   "cell_type": "code",
   "execution_count": 87,
   "id": "c5875f13",
   "metadata": {},
   "outputs": [
    {
     "data": {
      "text/plain": [
       "0          USA\n",
       "1       Canada\n",
       "2           UK\n",
       "3    Australia\n",
       "Name: Country, dtype: object"
      ]
     },
     "execution_count": 87,
     "metadata": {},
     "output_type": "execute_result"
    }
   ],
   "source": [
    "# Getting the Country column by index position\n",
    "df.iloc[: , 2]"
   ]
  },
  {
   "cell_type": "markdown",
   "id": "6c666590",
   "metadata": {},
   "source": [
    "As you can see, the first approach does not involve a slice, so it is by far the easist way to return a column. However, when trying to retrieve a row, the first approach will not work. Therefore, it is very important to understand slices and how they can be used in data frames."
   ]
  },
  {
   "cell_type": "markdown",
   "id": "edd12781",
   "metadata": {},
   "source": [
    "The slice operator `:` can be used in either the row or column index of a data frame. It tells Pandas that you want all the observations across a row or column. This is best shown by an example."
   ]
  },
  {
   "cell_type": "code",
   "execution_count": 89,
   "id": "9fe7a837",
   "metadata": {},
   "outputs": [
    {
     "data": {
      "text/html": [
       "<div>\n",
       "<style scoped>\n",
       "    .dataframe tbody tr th:only-of-type {\n",
       "        vertical-align: middle;\n",
       "    }\n",
       "\n",
       "    .dataframe tbody tr th {\n",
       "        vertical-align: top;\n",
       "    }\n",
       "\n",
       "    .dataframe thead th {\n",
       "        text-align: right;\n",
       "    }\n",
       "</style>\n",
       "<table border=\"1\" class=\"dataframe\">\n",
       "  <thead>\n",
       "    <tr style=\"text-align: right;\">\n",
       "      <th></th>\n",
       "      <th>Name</th>\n",
       "      <th>Age</th>\n",
       "      <th>Country</th>\n",
       "    </tr>\n",
       "  </thead>\n",
       "  <tbody>\n",
       "    <tr>\n",
       "      <th>0</th>\n",
       "      <td>John</td>\n",
       "      <td>30</td>\n",
       "      <td>USA</td>\n",
       "    </tr>\n",
       "    <tr>\n",
       "      <th>1</th>\n",
       "      <td>Jane</td>\n",
       "      <td>28</td>\n",
       "      <td>Canada</td>\n",
       "    </tr>\n",
       "    <tr>\n",
       "      <th>2</th>\n",
       "      <td>Jim</td>\n",
       "      <td>35</td>\n",
       "      <td>UK</td>\n",
       "    </tr>\n",
       "    <tr>\n",
       "      <th>3</th>\n",
       "      <td>Joan</td>\n",
       "      <td>40</td>\n",
       "      <td>Australia</td>\n",
       "    </tr>\n",
       "  </tbody>\n",
       "</table>\n",
       "</div>"
      ],
      "text/plain": [
       "   Name  Age    Country\n",
       "0  John   30        USA\n",
       "1  Jane   28     Canada\n",
       "2   Jim   35         UK\n",
       "3  Joan   40  Australia"
      ]
     },
     "execution_count": 89,
     "metadata": {},
     "output_type": "execute_result"
    }
   ],
   "source": [
    "# Recall the data frame\n",
    "df"
   ]
  },
  {
   "cell_type": "markdown",
   "id": "521372cc",
   "metadata": {},
   "source": [
    "To retrieve the entire first row of `df`, we can use the slice operator `:` in place of the column index."
   ]
  },
  {
   "cell_type": "code",
   "execution_count": 90,
   "id": "c3af3342",
   "metadata": {},
   "outputs": [
    {
     "data": {
      "text/plain": [
       "Name       John\n",
       "Age          30\n",
       "Country     USA\n",
       "Name: 0, dtype: object"
      ]
     },
     "execution_count": 90,
     "metadata": {},
     "output_type": "execute_result"
    }
   ],
   "source": [
    "# Getting the entire first row by index position\n",
    "df.iloc[0, :]"
   ]
  },
  {
   "cell_type": "code",
   "execution_count": 91,
   "id": "777f74ea",
   "metadata": {},
   "outputs": [
    {
     "data": {
      "text/plain": [
       "Name       John\n",
       "Age          30\n",
       "Country     USA\n",
       "Name: 0, dtype: object"
      ]
     },
     "execution_count": 91,
     "metadata": {},
     "output_type": "execute_result"
    }
   ],
   "source": [
    "# Getting the entire first row by index label\n",
    "df.loc[0, :]"
   ]
  },
  {
   "cell_type": "markdown",
   "id": "dc8cf520",
   "metadata": {},
   "source": [
    "Although these two approaches have the same index for this example, that is only the case because our index positions and labels are the same."
   ]
  },
  {
   "cell_type": "markdown",
   "id": "f24f9b75",
   "metadata": {},
   "source": [
    "Now that we know how to access the elements of a data frame, changing them is simple. For example, let's change the name `John` to `Johnathan` in our data frame `df`."
   ]
  },
  {
   "cell_type": "code",
   "execution_count": 93,
   "id": "3a200cb3",
   "metadata": {},
   "outputs": [
    {
     "data": {
      "text/html": [
       "<div>\n",
       "<style scoped>\n",
       "    .dataframe tbody tr th:only-of-type {\n",
       "        vertical-align: middle;\n",
       "    }\n",
       "\n",
       "    .dataframe tbody tr th {\n",
       "        vertical-align: top;\n",
       "    }\n",
       "\n",
       "    .dataframe thead th {\n",
       "        text-align: right;\n",
       "    }\n",
       "</style>\n",
       "<table border=\"1\" class=\"dataframe\">\n",
       "  <thead>\n",
       "    <tr style=\"text-align: right;\">\n",
       "      <th></th>\n",
       "      <th>Name</th>\n",
       "      <th>Age</th>\n",
       "      <th>Country</th>\n",
       "    </tr>\n",
       "  </thead>\n",
       "  <tbody>\n",
       "    <tr>\n",
       "      <th>0</th>\n",
       "      <td>John</td>\n",
       "      <td>30</td>\n",
       "      <td>USA</td>\n",
       "    </tr>\n",
       "    <tr>\n",
       "      <th>1</th>\n",
       "      <td>Jane</td>\n",
       "      <td>28</td>\n",
       "      <td>Canada</td>\n",
       "    </tr>\n",
       "    <tr>\n",
       "      <th>2</th>\n",
       "      <td>Jim</td>\n",
       "      <td>35</td>\n",
       "      <td>UK</td>\n",
       "    </tr>\n",
       "    <tr>\n",
       "      <th>3</th>\n",
       "      <td>Joan</td>\n",
       "      <td>40</td>\n",
       "      <td>Australia</td>\n",
       "    </tr>\n",
       "  </tbody>\n",
       "</table>\n",
       "</div>"
      ],
      "text/plain": [
       "   Name  Age    Country\n",
       "0  John   30        USA\n",
       "1  Jane   28     Canada\n",
       "2   Jim   35         UK\n",
       "3  Joan   40  Australia"
      ]
     },
     "execution_count": 93,
     "metadata": {},
     "output_type": "execute_result"
    }
   ],
   "source": [
    "# Recall the data frame\n",
    "df"
   ]
  },
  {
   "cell_type": "code",
   "execution_count": 94,
   "id": "71f2b561",
   "metadata": {},
   "outputs": [],
   "source": [
    "# Changing the element John to Johnathan\n",
    "df.loc[0, 'Name'] = 'Johnathan'"
   ]
  },
  {
   "cell_type": "code",
   "execution_count": 95,
   "id": "0ac9b3e7",
   "metadata": {},
   "outputs": [
    {
     "data": {
      "text/html": [
       "<div>\n",
       "<style scoped>\n",
       "    .dataframe tbody tr th:only-of-type {\n",
       "        vertical-align: middle;\n",
       "    }\n",
       "\n",
       "    .dataframe tbody tr th {\n",
       "        vertical-align: top;\n",
       "    }\n",
       "\n",
       "    .dataframe thead th {\n",
       "        text-align: right;\n",
       "    }\n",
       "</style>\n",
       "<table border=\"1\" class=\"dataframe\">\n",
       "  <thead>\n",
       "    <tr style=\"text-align: right;\">\n",
       "      <th></th>\n",
       "      <th>Name</th>\n",
       "      <th>Age</th>\n",
       "      <th>Country</th>\n",
       "    </tr>\n",
       "  </thead>\n",
       "  <tbody>\n",
       "    <tr>\n",
       "      <th>0</th>\n",
       "      <td>Johnathan</td>\n",
       "      <td>30</td>\n",
       "      <td>USA</td>\n",
       "    </tr>\n",
       "    <tr>\n",
       "      <th>1</th>\n",
       "      <td>Jane</td>\n",
       "      <td>28</td>\n",
       "      <td>Canada</td>\n",
       "    </tr>\n",
       "    <tr>\n",
       "      <th>2</th>\n",
       "      <td>Jim</td>\n",
       "      <td>35</td>\n",
       "      <td>UK</td>\n",
       "    </tr>\n",
       "    <tr>\n",
       "      <th>3</th>\n",
       "      <td>Joan</td>\n",
       "      <td>40</td>\n",
       "      <td>Australia</td>\n",
       "    </tr>\n",
       "  </tbody>\n",
       "</table>\n",
       "</div>"
      ],
      "text/plain": [
       "        Name  Age    Country\n",
       "0  Johnathan   30        USA\n",
       "1       Jane   28     Canada\n",
       "2        Jim   35         UK\n",
       "3       Joan   40  Australia"
      ]
     },
     "execution_count": 95,
     "metadata": {},
     "output_type": "execute_result"
    }
   ],
   "source": [
    "# Outputting the modified data frame\n",
    "df"
   ]
  },
  {
   "cell_type": "markdown",
   "id": "c2d7fe83",
   "metadata": {},
   "source": [
    "### Data Frame Functionality"
   ]
  },
  {
   "cell_type": "markdown",
   "id": "3d85c722",
   "metadata": {},
   "source": [
    "Similar to series, the main functionality data frames have to offer is there ability to allow elementwise comparisons and operations. On top of that, data frames offer this same functionality to the rows and columns of the data frame.\n",
    "\n",
    "First, let's look at boolean comparisons. For a data frame we can take a normal boolean comparison, like `Age > 30`, and apply it to each element of the data frame. We can try this with data frame `df`."
   ]
  },
  {
   "cell_type": "code",
   "execution_count": 45,
   "id": "f858352e",
   "metadata": {},
   "outputs": [
    {
     "data": {
      "text/plain": [
       "0    False\n",
       "1    False\n",
       "2     True\n",
       "3     True\n",
       "Name: Age, dtype: bool"
      ]
     },
     "execution_count": 45,
     "metadata": {},
     "output_type": "execute_result"
    }
   ],
   "source": [
    "# Checking which Ages are greater than 30\n",
    "df['Age'] > 30"
   ]
  },
  {
   "cell_type": "markdown",
   "id": "60a4296e",
   "metadata": {},
   "source": [
    "As you can see by the output, this comparison was applied to each element, and a boolean mask was return. Like we did with series, we can now use this mask to retrieve all the rows for which the condition is true for by passing it into the index operator."
   ]
  },
  {
   "cell_type": "code",
   "execution_count": 96,
   "id": "b5d2b6ce",
   "metadata": {},
   "outputs": [
    {
     "data": {
      "text/html": [
       "<div>\n",
       "<style scoped>\n",
       "    .dataframe tbody tr th:only-of-type {\n",
       "        vertical-align: middle;\n",
       "    }\n",
       "\n",
       "    .dataframe tbody tr th {\n",
       "        vertical-align: top;\n",
       "    }\n",
       "\n",
       "    .dataframe thead th {\n",
       "        text-align: right;\n",
       "    }\n",
       "</style>\n",
       "<table border=\"1\" class=\"dataframe\">\n",
       "  <thead>\n",
       "    <tr style=\"text-align: right;\">\n",
       "      <th></th>\n",
       "      <th>Name</th>\n",
       "      <th>Age</th>\n",
       "      <th>Country</th>\n",
       "    </tr>\n",
       "  </thead>\n",
       "  <tbody>\n",
       "    <tr>\n",
       "      <th>2</th>\n",
       "      <td>Jim</td>\n",
       "      <td>35</td>\n",
       "      <td>UK</td>\n",
       "    </tr>\n",
       "    <tr>\n",
       "      <th>3</th>\n",
       "      <td>Joan</td>\n",
       "      <td>40</td>\n",
       "      <td>Australia</td>\n",
       "    </tr>\n",
       "  </tbody>\n",
       "</table>\n",
       "</div>"
      ],
      "text/plain": [
       "   Name  Age    Country\n",
       "2   Jim   35         UK\n",
       "3  Joan   40  Australia"
      ]
     },
     "execution_count": 96,
     "metadata": {},
     "output_type": "execute_result"
    }
   ],
   "source": [
    "# Getting all people whos Ages are greater than 30\n",
    "df[df['Age'] > 30]"
   ]
  },
  {
   "cell_type": "markdown",
   "id": "97fbac02",
   "metadata": {},
   "source": [
    "Since we are dealing with multiple columns when using data frames, we can create a mask with two boolean comparisons instead. To do this we need to make use of the \"and\" operator `&`, and the \"or\" operator `|`. The \"and\" operator `&` means that both of the boolean condition must be true for the mask to return true for a row. The \"or\" operator `|` only requires one of the two boolean conditions to be true for the mask to return true for a row.\n",
    "\n",
    "For example, let's try return all people in `df` whose `Age` is greater than 30 and Country is the `UK`."
   ]
  },
  {
   "cell_type": "code",
   "execution_count": 98,
   "id": "7dddb3fd",
   "metadata": {},
   "outputs": [
    {
     "data": {
      "text/html": [
       "<div>\n",
       "<style scoped>\n",
       "    .dataframe tbody tr th:only-of-type {\n",
       "        vertical-align: middle;\n",
       "    }\n",
       "\n",
       "    .dataframe tbody tr th {\n",
       "        vertical-align: top;\n",
       "    }\n",
       "\n",
       "    .dataframe thead th {\n",
       "        text-align: right;\n",
       "    }\n",
       "</style>\n",
       "<table border=\"1\" class=\"dataframe\">\n",
       "  <thead>\n",
       "    <tr style=\"text-align: right;\">\n",
       "      <th></th>\n",
       "      <th>Name</th>\n",
       "      <th>Age</th>\n",
       "      <th>Country</th>\n",
       "    </tr>\n",
       "  </thead>\n",
       "  <tbody>\n",
       "    <tr>\n",
       "      <th>2</th>\n",
       "      <td>Jim</td>\n",
       "      <td>35</td>\n",
       "      <td>UK</td>\n",
       "    </tr>\n",
       "  </tbody>\n",
       "</table>\n",
       "</div>"
      ],
      "text/plain": [
       "  Name  Age Country\n",
       "2  Jim   35      UK"
      ]
     },
     "execution_count": 98,
     "metadata": {},
     "output_type": "execute_result"
    }
   ],
   "source": [
    "# Getting all people whos Ages are greater than 30 and Country is the UK\n",
    "df[(df['Age'] > 30) & (df['Country'] == 'UK')]"
   ]
  },
  {
   "cell_type": "markdown",
   "id": "3a446615",
   "metadata": {},
   "source": [
    "It is important to remember to put brackets around each of your boolean comparisons."
   ]
  },
  {
   "cell_type": "markdown",
   "id": "646975cf",
   "metadata": {},
   "source": [
    "Lastly, Pandas data frames also offer methods to compute sample statistics of the elements, rows, and columns in the data frame. This allows us to calculate the sample mean, median, standard deviation, and many other sample statistics.\n",
    "\n",
    "We can demonstrate this on the following data frame."
   ]
  },
  {
   "cell_type": "code",
   "execution_count": 100,
   "id": "6b4be570",
   "metadata": {},
   "outputs": [],
   "source": [
    "# Creating a Pandas data frame with a dictionary\n",
    "df = pd.DataFrame({\n",
    "    'Age': [30, 28, 35, 40],\n",
    "    'Weight': [160, 123, 194, 141]\n",
    "})"
   ]
  },
  {
   "cell_type": "code",
   "execution_count": 101,
   "id": "d5360069",
   "metadata": {},
   "outputs": [
    {
     "data": {
      "text/plain": [
       "Age        33.25\n",
       "Weight    154.50\n",
       "dtype: float64"
      ]
     },
     "execution_count": 101,
     "metadata": {},
     "output_type": "execute_result"
    }
   ],
   "source": [
    "# Computing the mean Age and Weight\n",
    "df.mean()"
   ]
  },
  {
   "cell_type": "code",
   "execution_count": 102,
   "id": "b64e1f39",
   "metadata": {},
   "outputs": [
    {
     "data": {
      "text/plain": [
       "Age        32.5\n",
       "Weight    150.5\n",
       "dtype: float64"
      ]
     },
     "execution_count": 102,
     "metadata": {},
     "output_type": "execute_result"
    }
   ],
   "source": [
    "# Computing the median Age and Weight\n",
    "df.median()"
   ]
  },
  {
   "cell_type": "markdown",
   "id": "61c09a8c",
   "metadata": {},
   "source": [
    "The `.describe()` method works for data frames as well."
   ]
  },
  {
   "cell_type": "code",
   "execution_count": 103,
   "id": "991c93b8",
   "metadata": {},
   "outputs": [
    {
     "data": {
      "text/html": [
       "<div>\n",
       "<style scoped>\n",
       "    .dataframe tbody tr th:only-of-type {\n",
       "        vertical-align: middle;\n",
       "    }\n",
       "\n",
       "    .dataframe tbody tr th {\n",
       "        vertical-align: top;\n",
       "    }\n",
       "\n",
       "    .dataframe thead th {\n",
       "        text-align: right;\n",
       "    }\n",
       "</style>\n",
       "<table border=\"1\" class=\"dataframe\">\n",
       "  <thead>\n",
       "    <tr style=\"text-align: right;\">\n",
       "      <th></th>\n",
       "      <th>Age</th>\n",
       "      <th>Weight</th>\n",
       "    </tr>\n",
       "  </thead>\n",
       "  <tbody>\n",
       "    <tr>\n",
       "      <th>count</th>\n",
       "      <td>4.000000</td>\n",
       "      <td>4.000000</td>\n",
       "    </tr>\n",
       "    <tr>\n",
       "      <th>mean</th>\n",
       "      <td>33.250000</td>\n",
       "      <td>154.500000</td>\n",
       "    </tr>\n",
       "    <tr>\n",
       "      <th>std</th>\n",
       "      <td>5.377422</td>\n",
       "      <td>30.358964</td>\n",
       "    </tr>\n",
       "    <tr>\n",
       "      <th>min</th>\n",
       "      <td>28.000000</td>\n",
       "      <td>123.000000</td>\n",
       "    </tr>\n",
       "    <tr>\n",
       "      <th>25%</th>\n",
       "      <td>29.500000</td>\n",
       "      <td>136.500000</td>\n",
       "    </tr>\n",
       "    <tr>\n",
       "      <th>50%</th>\n",
       "      <td>32.500000</td>\n",
       "      <td>150.500000</td>\n",
       "    </tr>\n",
       "    <tr>\n",
       "      <th>75%</th>\n",
       "      <td>36.250000</td>\n",
       "      <td>168.500000</td>\n",
       "    </tr>\n",
       "    <tr>\n",
       "      <th>max</th>\n",
       "      <td>40.000000</td>\n",
       "      <td>194.000000</td>\n",
       "    </tr>\n",
       "  </tbody>\n",
       "</table>\n",
       "</div>"
      ],
      "text/plain": [
       "             Age      Weight\n",
       "count   4.000000    4.000000\n",
       "mean   33.250000  154.500000\n",
       "std     5.377422   30.358964\n",
       "min    28.000000  123.000000\n",
       "25%    29.500000  136.500000\n",
       "50%    32.500000  150.500000\n",
       "75%    36.250000  168.500000\n",
       "max    40.000000  194.000000"
      ]
     },
     "execution_count": 103,
     "metadata": {},
     "output_type": "execute_result"
    }
   ],
   "source": [
    "# Calculating sample statistics of the data frame\n",
    "df.describe()"
   ]
  },
  {
   "cell_type": "markdown",
   "id": "41671c39",
   "metadata": {},
   "source": [
    "### Real World Example: University Rankings"
   ]
  },
  {
   "cell_type": "markdown",
   "id": "5743534e",
   "metadata": {},
   "source": [
    "As an example for the real world application of Pandas, let's import \"Times World University Rankings\" dataset.\n",
    "\n",
    "To import a csv dataset in Pandas, use the `pd.read_csv()` and pass in the name of the dataset as an argument. For the purposes of this lab I have included a link to download the dataset, but the line below it is what the proper call would look like if you had the data download."
   ]
  },
  {
   "cell_type": "code",
   "execution_count": 106,
   "id": "c695b24c",
   "metadata": {
    "scrolled": false
   },
   "outputs": [],
   "source": [
    "# Load sample data into a pandas DataFrame\n",
    "uni_df = pd.read_csv('https://raw.githubusercontent.com/michaelritacco/Python-Workshop/main/university_rankings.csv')\n",
    "# uni_df = pd.read_csv('university_rankings.csv')"
   ]
  },
  {
   "cell_type": "markdown",
   "id": "ac73b1c2",
   "metadata": {},
   "source": [
    "To output the top number of rows of a data frame, use the `.head()`. By default, this function outputs the first 5 rows."
   ]
  },
  {
   "cell_type": "code",
   "execution_count": 107,
   "id": "03866bc0",
   "metadata": {
    "scrolled": false
   },
   "outputs": [
    {
     "data": {
      "text/html": [
       "<div>\n",
       "<style scoped>\n",
       "    .dataframe tbody tr th:only-of-type {\n",
       "        vertical-align: middle;\n",
       "    }\n",
       "\n",
       "    .dataframe tbody tr th {\n",
       "        vertical-align: top;\n",
       "    }\n",
       "\n",
       "    .dataframe thead th {\n",
       "        text-align: right;\n",
       "    }\n",
       "</style>\n",
       "<table border=\"1\" class=\"dataframe\">\n",
       "  <thead>\n",
       "    <tr style=\"text-align: right;\">\n",
       "      <th></th>\n",
       "      <th>World_Rank</th>\n",
       "      <th>University_Name</th>\n",
       "      <th>Country</th>\n",
       "      <th>Teaching_Rating</th>\n",
       "      <th>Inter_Outlook_Rating</th>\n",
       "      <th>Research_Rating</th>\n",
       "      <th>Citations_Rating</th>\n",
       "      <th>Industry_Income_Rating</th>\n",
       "      <th>Total_Score</th>\n",
       "      <th>Num_Students</th>\n",
       "      <th>Student/Staff_Ratio</th>\n",
       "      <th>%_Inter_Students</th>\n",
       "      <th>%_Female_Students</th>\n",
       "      <th>Year</th>\n",
       "    </tr>\n",
       "  </thead>\n",
       "  <tbody>\n",
       "    <tr>\n",
       "      <th>0</th>\n",
       "      <td>1</td>\n",
       "      <td>California Institute of Technology</td>\n",
       "      <td>United States of America</td>\n",
       "      <td>95.6</td>\n",
       "      <td>64.0</td>\n",
       "      <td>97.6</td>\n",
       "      <td>99.8</td>\n",
       "      <td>97.8</td>\n",
       "      <td>95.2</td>\n",
       "      <td>2243.0</td>\n",
       "      <td>6.9</td>\n",
       "      <td>27.0</td>\n",
       "      <td>33</td>\n",
       "      <td>2016</td>\n",
       "    </tr>\n",
       "    <tr>\n",
       "      <th>1</th>\n",
       "      <td>2</td>\n",
       "      <td>University of Oxford</td>\n",
       "      <td>United Kingdom</td>\n",
       "      <td>86.5</td>\n",
       "      <td>94.4</td>\n",
       "      <td>98.9</td>\n",
       "      <td>98.8</td>\n",
       "      <td>73.1</td>\n",
       "      <td>94.2</td>\n",
       "      <td>19919.0</td>\n",
       "      <td>11.6</td>\n",
       "      <td>34.0</td>\n",
       "      <td>46</td>\n",
       "      <td>2016</td>\n",
       "    </tr>\n",
       "    <tr>\n",
       "      <th>2</th>\n",
       "      <td>3</td>\n",
       "      <td>Stanford University</td>\n",
       "      <td>United States of America</td>\n",
       "      <td>92.5</td>\n",
       "      <td>76.3</td>\n",
       "      <td>96.2</td>\n",
       "      <td>99.9</td>\n",
       "      <td>63.3</td>\n",
       "      <td>93.9</td>\n",
       "      <td>15596.0</td>\n",
       "      <td>7.8</td>\n",
       "      <td>22.0</td>\n",
       "      <td>42</td>\n",
       "      <td>2016</td>\n",
       "    </tr>\n",
       "    <tr>\n",
       "      <th>3</th>\n",
       "      <td>4</td>\n",
       "      <td>University of Cambridge</td>\n",
       "      <td>United Kingdom</td>\n",
       "      <td>88.2</td>\n",
       "      <td>91.5</td>\n",
       "      <td>96.7</td>\n",
       "      <td>97.0</td>\n",
       "      <td>55</td>\n",
       "      <td>92.8</td>\n",
       "      <td>18812.0</td>\n",
       "      <td>11.8</td>\n",
       "      <td>34.0</td>\n",
       "      <td>46</td>\n",
       "      <td>2016</td>\n",
       "    </tr>\n",
       "    <tr>\n",
       "      <th>4</th>\n",
       "      <td>5</td>\n",
       "      <td>Massachusetts Institute of Technology</td>\n",
       "      <td>United States of America</td>\n",
       "      <td>89.4</td>\n",
       "      <td>84.0</td>\n",
       "      <td>88.6</td>\n",
       "      <td>99.7</td>\n",
       "      <td>95.4</td>\n",
       "      <td>92</td>\n",
       "      <td>11074.0</td>\n",
       "      <td>9.0</td>\n",
       "      <td>33.0</td>\n",
       "      <td>37</td>\n",
       "      <td>2016</td>\n",
       "    </tr>\n",
       "  </tbody>\n",
       "</table>\n",
       "</div>"
      ],
      "text/plain": [
       "   World_Rank                        University_Name  \\\n",
       "0           1     California Institute of Technology   \n",
       "1           2                   University of Oxford   \n",
       "2           3                    Stanford University   \n",
       "3           4                University of Cambridge   \n",
       "4           5  Massachusetts Institute of Technology   \n",
       "\n",
       "                    Country  Teaching_Rating  Inter_Outlook_Rating  \\\n",
       "0  United States of America             95.6                  64.0   \n",
       "1            United Kingdom             86.5                  94.4   \n",
       "2  United States of America             92.5                  76.3   \n",
       "3            United Kingdom             88.2                  91.5   \n",
       "4  United States of America             89.4                  84.0   \n",
       "\n",
       "   Research_Rating  Citations_Rating Industry_Income_Rating Total_Score  \\\n",
       "0             97.6              99.8                   97.8        95.2   \n",
       "1             98.9              98.8                   73.1        94.2   \n",
       "2             96.2              99.9                   63.3        93.9   \n",
       "3             96.7              97.0                     55        92.8   \n",
       "4             88.6              99.7                   95.4          92   \n",
       "\n",
       "   Num_Students  Student/Staff_Ratio  %_Inter_Students %_Female_Students  Year  \n",
       "0        2243.0                  6.9              27.0                33  2016  \n",
       "1       19919.0                 11.6              34.0                46  2016  \n",
       "2       15596.0                  7.8              22.0                42  2016  \n",
       "3       18812.0                 11.8              34.0                46  2016  \n",
       "4       11074.0                  9.0              33.0                37  2016  "
      ]
     },
     "execution_count": 107,
     "metadata": {},
     "output_type": "execute_result"
    }
   ],
   "source": [
    "# Printing first 5 rows of the data\n",
    "uni_df.head()"
   ]
  },
  {
   "cell_type": "markdown",
   "id": "297475e3",
   "metadata": {},
   "source": [
    "As an example, let's find the median number of students for all American universities. "
   ]
  },
  {
   "cell_type": "code",
   "execution_count": 120,
   "id": "cff4120c",
   "metadata": {},
   "outputs": [
    {
     "name": "stdout",
     "output_type": "stream",
     "text": [
      "Median = 21270 Students\n"
     ]
    }
   ],
   "source": [
    "# Creating a mask for all American universities\n",
    "mask_us = uni_df.Country == 'United States of America'\n",
    "\n",
    "# Data frame of American universities\n",
    "us_df = uni_df[mask_us]\n",
    "\n",
    "# Calculating the median number of students for American universities\n",
    "us_median_students = us_df['Num_Students'].median()\n",
    "\n",
    "# Outputing the median number of students for American universities\n",
    "print('Median = {:.0f} Students'.format(us_median_students))"
   ]
  },
  {
   "cell_type": "markdown",
   "id": "7bc7691a",
   "metadata": {},
   "source": [
    "**Exercise:** Find the average teaching rating of Canadian universities that are in the top 300 universities in the world? (i.e. they have a world rank of 300 or less) "
   ]
  },
  {
   "cell_type": "code",
   "execution_count": 122,
   "id": "996a9fff",
   "metadata": {
    "scrolled": false
   },
   "outputs": [
    {
     "name": "stdout",
     "output_type": "stream",
     "text": [
      "Average = 41.813%\n"
     ]
    }
   ],
   "source": [
    "# Creating a mask for Canadian universities that are in\n",
    "# the top 300 universities in the world\n",
    "mask_canada = (uni_df.Country == 'Canada') & (uni_df.World_Rank < 300)\n",
    "\n",
    "# Data frame of Canadian universities in the top 300\n",
    "canada_df = uni_df[mask_canada]\n",
    "\n",
    "# Calculating the mean teacher rating for Canadian universities\n",
    "canada_avg_rating = canada_df['Teaching_Rating'].mean()\n",
    "\n",
    "# Outputing the average teaching rating for Canadian universities\n",
    "print('Average = {:.3f}%'.format(canada_avg_rating))"
   ]
  },
  {
   "cell_type": "markdown",
   "id": "0844dedb",
   "metadata": {},
   "source": [
    "## Introduction to Numpy"
   ]
  },
  {
   "cell_type": "markdown",
   "id": "11849d6e",
   "metadata": {},
   "source": [
    "NumPy is a library in Python for numerical computing and data analysis using arrays. It provides tools for operations such as linear algebra, statistical analysis, and random number generation, and integrates well with other libraries like Pandas and Matplotlib."
   ]
  },
  {
   "cell_type": "markdown",
   "id": "13b7a841",
   "metadata": {
    "scrolled": false
   },
   "source": [
    "### Creating Numpy Arrays"
   ]
  },
  {
   "cell_type": "markdown",
   "id": "746b9480",
   "metadata": {},
   "source": [
    "First, lets take a look at what Numpy array is, and how to create one. To create a 1-dimensional Numpy array, you pass in a Python list to the `np.array()` function. Conceptually, it is easiest to think of a 1D Numpy array as a Python list that is optimized to work faster."
   ]
  },
  {
   "cell_type": "code",
   "execution_count": 27,
   "id": "3fca03b3",
   "metadata": {
    "scrolled": false
   },
   "outputs": [
    {
     "data": {
      "text/plain": [
       "array([1, 2, 3, 4, 5])"
      ]
     },
     "execution_count": 27,
     "metadata": {},
     "output_type": "execute_result"
    }
   ],
   "source": [
    "# Creating a 1D numpy array\n",
    "array_1d = np.array([1, 2, 3, 4, 5])\n",
    "\n",
    "array_1d"
   ]
  },
  {
   "cell_type": "markdown",
   "id": "36d9d9e7",
   "metadata": {},
   "source": [
    "These array can also take in string values as well."
   ]
  },
  {
   "cell_type": "code",
   "execution_count": 28,
   "id": "32a0391b",
   "metadata": {
    "scrolled": false
   },
   "outputs": [
    {
     "data": {
      "text/plain": [
       "array(['One', 'Two', 'Three', 'Four', 'Five'], dtype='<U5')"
      ]
     },
     "execution_count": 28,
     "metadata": {},
     "output_type": "execute_result"
    }
   ],
   "source": [
    "# Creating a 1D numpy array containing strings\n",
    "array_1d = np.array(['One', 'Two', 'Three', 'Four', 'Five'])\n",
    "\n",
    "array_1d"
   ]
  },
  {
   "cell_type": "markdown",
   "id": "a4ed0a7d",
   "metadata": {},
   "source": [
    "We can construct a 2-dimensional Numpy array in a very similar way, but instead of passing in a single list, you pass in a list of lists. Creating a 2D Numpy array is essentially the same thing as creating a matrix, which is shown by the output below."
   ]
  },
  {
   "cell_type": "code",
   "execution_count": 29,
   "id": "7ead5105",
   "metadata": {
    "scrolled": false
   },
   "outputs": [
    {
     "data": {
      "text/plain": [
       "array([[1, 2, 3],\n",
       "       [4, 5, 6],\n",
       "       [7, 8, 9]])"
      ]
     },
     "execution_count": 29,
     "metadata": {},
     "output_type": "execute_result"
    }
   ],
   "source": [
    "# Create a 2D numpy array\n",
    "array_2d = np.array([[1, 2, 3], [4, 5, 6], [7, 8, 9]])\n",
    "\n",
    "array_2d"
   ]
  },
  {
   "cell_type": "markdown",
   "id": "519dc025",
   "metadata": {},
   "source": [
    "As you can see, each individual list inside of the bigger list becomes a row of the matrix. It is important to note that all of the individual lists must be the same size for this to work."
   ]
  },
  {
   "cell_type": "markdown",
   "id": "70659579",
   "metadata": {},
   "source": [
    "Each Numpy array that we create has a shape. The shape can be accessed using `.shape` attribute, which returns a tuple in the form `(number_of_rows, number_of_columns)`. For `array_2d`, the shape would be:"
   ]
  },
  {
   "cell_type": "code",
   "execution_count": 30,
   "id": "5b6bfd1b",
   "metadata": {},
   "outputs": [
    {
     "data": {
      "text/plain": [
       "(3, 3)"
      ]
     },
     "execution_count": 30,
     "metadata": {},
     "output_type": "execute_result"
    }
   ],
   "source": [
    "# Getting the shape\n",
    "array_2d.shape"
   ]
  },
  {
   "cell_type": "markdown",
   "id": "904cf57f",
   "metadata": {},
   "source": [
    "### Accessing Numpy Arrays"
   ]
  },
  {
   "cell_type": "markdown",
   "id": "6729efc0",
   "metadata": {},
   "source": [
    "Accessing Numpy arrays works very similarly to access Pandas series and data frames. For a 1D Numpy array, we use the index operator `[]` to access elements by their positon. \n",
    "\n",
    "It is important to remember that you are accessing by an index, which in Python, are zero-based. This means the first element in an array is at index 0, so to access it you would use `[0]`. "
   ]
  },
  {
   "cell_type": "markdown",
   "id": "651d5761",
   "metadata": {},
   "source": [
    "As an example for accessing a 1D array, lets access the second element of the following array."
   ]
  },
  {
   "cell_type": "code",
   "execution_count": 31,
   "id": "6e41cdf7",
   "metadata": {},
   "outputs": [
    {
     "data": {
      "text/plain": [
       "'Three'"
      ]
     },
     "execution_count": 31,
     "metadata": {},
     "output_type": "execute_result"
    }
   ],
   "source": [
    "# Creating a 1D numpy array containing strings\n",
    "array_1d = np.array(['One', 'Two', 'Three', 'Four', 'Five'])\n",
    "\n",
    "# Getting the 2nd element at index 3\n",
    "array_1d[2]"
   ]
  },
  {
   "cell_type": "markdown",
   "id": "4f9fdcfb",
   "metadata": {},
   "source": [
    "Similarly to the Panda's series, we can use a slice. Let's trying retriving all the elements in `array_1d`."
   ]
  },
  {
   "cell_type": "code",
   "execution_count": 32,
   "id": "f3b2ca9e",
   "metadata": {},
   "outputs": [
    {
     "data": {
      "text/plain": [
       "array(['One', 'Two', 'Three', 'Four', 'Five'], dtype='<U5')"
      ]
     },
     "execution_count": 32,
     "metadata": {},
     "output_type": "execute_result"
    }
   ],
   "source": [
    "array_1d[:]"
   ]
  },
  {
   "cell_type": "markdown",
   "id": "d1af32f6",
   "metadata": {},
   "source": [
    "As you can see from the example above, when we don't provide a start and stop index, the `:` operator returns the whole array. This is quite useful when dealing with matrices."
   ]
  },
  {
   "cell_type": "markdown",
   "id": "5f869b57",
   "metadata": {},
   "source": [
    "When accessing a 2D Numpy array, you will now need to provide two indexes to return a single element. The first will be the row index, and the second will be the column index, which are seperated by a comma. Remember, both of these indexes start at 0."
   ]
  },
  {
   "cell_type": "markdown",
   "id": "135fa6af",
   "metadata": {},
   "source": [
    "As an example for accessing a 2D array, lets access the element in the second row and third column."
   ]
  },
  {
   "cell_type": "code",
   "execution_count": 33,
   "id": "ab441572",
   "metadata": {},
   "outputs": [
    {
     "data": {
      "text/plain": [
       "array([[1, 2, 3],\n",
       "       [4, 5, 6],\n",
       "       [7, 8, 9]])"
      ]
     },
     "execution_count": 33,
     "metadata": {},
     "output_type": "execute_result"
    }
   ],
   "source": [
    "# Create a 2D numpy array\n",
    "array_2d = np.array([[1, 2, 3], [4, 5, 6], [7, 8, 9]])\n",
    "\n",
    "array_2d"
   ]
  },
  {
   "cell_type": "code",
   "execution_count": 34,
   "id": "2d4a80d6",
   "metadata": {},
   "outputs": [
    {
     "data": {
      "text/plain": [
       "6"
      ]
     },
     "execution_count": 34,
     "metadata": {},
     "output_type": "execute_result"
    }
   ],
   "source": [
    "# Getting the element in the 2nd row and 3rd column\n",
    "array_2d[1, 2]"
   ]
  },
  {
   "cell_type": "markdown",
   "id": "4bd6b853",
   "metadata": {},
   "source": [
    "Slices still work for 2D arrays and are very useful. They can be used inplace of one of the indexes to return entire rows or columns. Lets return the entire second row of `array_2`."
   ]
  },
  {
   "cell_type": "code",
   "execution_count": 35,
   "id": "40319796",
   "metadata": {},
   "outputs": [
    {
     "data": {
      "text/plain": [
       "array([4, 5, 6])"
      ]
     },
     "execution_count": 35,
     "metadata": {},
     "output_type": "execute_result"
    }
   ],
   "source": [
    "# Getting every element in the 2nd row\n",
    "array_2d[1, :]"
   ]
  },
  {
   "cell_type": "markdown",
   "id": "cb5b5ce7",
   "metadata": {},
   "source": [
    "It is important to note that when we use a slice of a 2D array to return a row or column, a 1D array will be return."
   ]
  },
  {
   "cell_type": "markdown",
   "id": "968a42d0",
   "metadata": {},
   "source": [
    "### Numpy Methods"
   ]
  },
  {
   "cell_type": "markdown",
   "id": "4067278a",
   "metadata": {},
   "source": [
    "Similar to Pandas, Numpy has a number of different methods to summarize or apply operations to the elements of an array. For this section, we will show how these functions work for a 1D Numpy array, but it should be mentioned they will work for 2D arrays just as well. For calculating the sum, maximum, minimum, and mean of the elements in an array, we would use the following:"
   ]
  },
  {
   "cell_type": "code",
   "execution_count": 36,
   "id": "f9b9827e",
   "metadata": {},
   "outputs": [
    {
     "name": "stdout",
     "output_type": "stream",
     "text": [
      "21\n",
      "3.5\n",
      "1\n",
      "6\n"
     ]
    }
   ],
   "source": [
    "# Creating an array\n",
    "array_1d = np.array([1, 2, 3, 4, 5, 6])\n",
    "\n",
    "# Calculating sum\n",
    "print(np.sum(array_1d))\n",
    "\n",
    "# Calculating mean\n",
    "print(np.mean(array_1d))\n",
    "\n",
    "# Finding minimum value\n",
    "print(np.min(array_1d))\n",
    "\n",
    "# Finding maximum value\n",
    "print(np.max(array_1d))"
   ]
  },
  {
   "cell_type": "markdown",
   "id": "85656a30",
   "metadata": {},
   "source": [
    "Numpy arrays also have the ability to apply operations (like addition or multiplicaiton) to each element of the array. We can show this with `array_1d`."
   ]
  },
  {
   "cell_type": "code",
   "execution_count": 37,
   "id": "4ee0c17c",
   "metadata": {},
   "outputs": [
    {
     "data": {
      "text/plain": [
       "array([1, 2, 3, 4, 5, 6])"
      ]
     },
     "execution_count": 37,
     "metadata": {},
     "output_type": "execute_result"
    }
   ],
   "source": [
    "# Recall array_1D\n",
    "array_1d"
   ]
  },
  {
   "cell_type": "code",
   "execution_count": 40,
   "id": "6af07572",
   "metadata": {},
   "outputs": [
    {
     "data": {
      "text/plain": [
       "array([3, 4, 5, 6, 7, 8])"
      ]
     },
     "execution_count": 40,
     "metadata": {},
     "output_type": "execute_result"
    }
   ],
   "source": [
    "# Adding 2 to each element\n",
    "array_1d + 2"
   ]
  },
  {
   "cell_type": "code",
   "execution_count": 41,
   "id": "3255fdb4",
   "metadata": {},
   "outputs": [
    {
     "data": {
      "text/plain": [
       "array([ 2,  4,  6,  8, 10, 12])"
      ]
     },
     "execution_count": 41,
     "metadata": {},
     "output_type": "execute_result"
    }
   ],
   "source": [
    "# Multiplying each element by 2\n",
    "array_1d * 2"
   ]
  },
  {
   "cell_type": "markdown",
   "id": "580beb07",
   "metadata": {},
   "source": [
    "Numpy arrays also allow us to apply matrix operations like matrix multiplication and tranposing. We will demonstrate this with `array_2d`."
   ]
  },
  {
   "cell_type": "code",
   "execution_count": 42,
   "id": "aa31143a",
   "metadata": {},
   "outputs": [
    {
     "data": {
      "text/plain": [
       "array([[1, 2, 3],\n",
       "       [4, 5, 6],\n",
       "       [7, 8, 9]])"
      ]
     },
     "execution_count": 42,
     "metadata": {},
     "output_type": "execute_result"
    }
   ],
   "source": [
    "# Create a 2D numpy array\n",
    "array_2d = np.array([[1, 2, 3], [4, 5, 6], [7, 8, 9]])\n",
    "\n",
    "array_2d"
   ]
  },
  {
   "cell_type": "code",
   "execution_count": 43,
   "id": "ce962271",
   "metadata": {},
   "outputs": [
    {
     "data": {
      "text/plain": [
       "array([[ 30,  36,  42],\n",
       "       [ 66,  81,  96],\n",
       "       [102, 126, 150]])"
      ]
     },
     "execution_count": 43,
     "metadata": {},
     "output_type": "execute_result"
    }
   ],
   "source": [
    "# Matrix multiplication  \n",
    "array_2d @ array_2d"
   ]
  },
  {
   "cell_type": "code",
   "execution_count": 44,
   "id": "0792fd8d",
   "metadata": {},
   "outputs": [
    {
     "data": {
      "text/plain": [
       "array([[1, 4, 7],\n",
       "       [2, 5, 8],\n",
       "       [3, 6, 9]])"
      ]
     },
     "execution_count": 44,
     "metadata": {},
     "output_type": "execute_result"
    }
   ],
   "source": [
    "# Transposing\n",
    "array_2d.T"
   ]
  },
  {
   "cell_type": "markdown",
   "id": "aec74592",
   "metadata": {},
   "source": [
    "One of the more important numpy methods is `.reshape()`. This method takes in two arguments which specify the new number of rows and columns the array should have after rearranging. For example, we can reshape `array_1d` into a 2 x 3 matrix as follows."
   ]
  },
  {
   "cell_type": "code",
   "execution_count": 45,
   "id": "c67fb02f",
   "metadata": {},
   "outputs": [
    {
     "data": {
      "text/plain": [
       "array([[1, 2, 3],\n",
       "       [4, 5, 6]])"
      ]
     },
     "execution_count": 45,
     "metadata": {},
     "output_type": "execute_result"
    }
   ],
   "source": [
    "# Reshaping array_1d into a 2x3 matrix\n",
    "array_1d.reshape(2, 3)"
   ]
  },
  {
   "cell_type": "markdown",
   "id": "d594916b",
   "metadata": {},
   "source": [
    "A special argument for the reshape method is `-1`, which can only be passed as one out of the two arguments. This tell Numpy to fit the shape specified by the other shape argument first. Reshaping `array_1d` into a matrix with 1 column."
   ]
  },
  {
   "cell_type": "code",
   "execution_count": 46,
   "id": "c5efa64c",
   "metadata": {},
   "outputs": [
    {
     "data": {
      "text/plain": [
       "array([[1],\n",
       "       [2],\n",
       "       [3],\n",
       "       [4],\n",
       "       [5],\n",
       "       [6]])"
      ]
     },
     "execution_count": 46,
     "metadata": {},
     "output_type": "execute_result"
    }
   ],
   "source": [
    "# Reshaping\n",
    "array_1d.reshape(-1, 1)"
   ]
  },
  {
   "cell_type": "markdown",
   "id": "d3fa9570",
   "metadata": {},
   "source": [
    "Numpy also has methods for generating random numbers. This is extreme useful for generating simulated data. When we generate numbers we will set a seed everytime. This seed ensure that when you rerun the code the generated numbers will always be the same. You can thing of the seed as the starting place we use when selecting random numbers."
   ]
  },
  {
   "cell_type": "markdown",
   "id": "65a69a7c",
   "metadata": {},
   "source": [
    "To demonstrate number generation, lets generate 5 random numbers from the standard normal distribution."
   ]
  },
  {
   "cell_type": "code",
   "execution_count": 47,
   "id": "8775017c",
   "metadata": {},
   "outputs": [
    {
     "data": {
      "text/plain": [
       "array([1.76405235, 0.40015721, 0.97873798, 2.2408932 , 1.86755799])"
      ]
     },
     "execution_count": 47,
     "metadata": {},
     "output_type": "execute_result"
    }
   ],
   "source": [
    "# Generating random numbers from N(0, 1)\n",
    "np.random.seed(0)\n",
    "rand_numbers = np.random.normal(size = 5)\n",
    "\n",
    "# view the result\n",
    "rand_numbers"
   ]
  },
  {
   "cell_type": "markdown",
   "id": "2930a939",
   "metadata": {},
   "source": [
    "Numpy also has a function `linspace()` which can be used to create linearly spaced numbers from a minimum to a maximum."
   ]
  },
  {
   "cell_type": "code",
   "execution_count": 48,
   "id": "669767b6",
   "metadata": {},
   "outputs": [
    {
     "data": {
      "text/plain": [
       "array([ 0.        ,  0.52631579,  1.05263158,  1.57894737,  2.10526316,\n",
       "        2.63157895,  3.15789474,  3.68421053,  4.21052632,  4.73684211,\n",
       "        5.26315789,  5.78947368,  6.31578947,  6.84210526,  7.36842105,\n",
       "        7.89473684,  8.42105263,  8.94736842,  9.47368421, 10.        ])"
      ]
     },
     "execution_count": 48,
     "metadata": {},
     "output_type": "execute_result"
    }
   ],
   "source": [
    "# Generate numbers 20 numbers from 0-10\n",
    "linear_numbers = np.linspace(0, 10, 20)\n",
    "\n",
    "# View the result\n",
    "linear_numbers"
   ]
  },
  {
   "cell_type": "markdown",
   "id": "ee65176f",
   "metadata": {},
   "source": [
    "The last Numpy feature we will cover is its ability to convert Pandas objects to Numpy arrays. Consider the following series:"
   ]
  },
  {
   "cell_type": "code",
   "execution_count": 49,
   "id": "bac3a359",
   "metadata": {},
   "outputs": [
    {
     "data": {
      "text/plain": [
       "array([1, 2, 3, 4, 5], dtype=int64)"
      ]
     },
     "execution_count": 49,
     "metadata": {},
     "output_type": "execute_result"
    }
   ],
   "source": [
    "# Creating a pandas series\n",
    "s = pd.Series([1, 2, 3, 4, 5])\n",
    "\n",
    "# Converting to numpy array\n",
    "s.values"
   ]
  },
  {
   "cell_type": "markdown",
   "id": "080ad58b",
   "metadata": {},
   "source": [
    "## Data Visualization with Matplotlib and Seaborn"
   ]
  },
  {
   "cell_type": "markdown",
   "id": "5afa5616",
   "metadata": {},
   "source": [
    "Matplotlib and Seaborn are two powerful libraries in Python for data visualization. They allow us to create various types of plots, including line charts, scatter plots, histograms, and more, to effectively visualize and analyze data. They also have options for customizing the appearance of the plots, including colors, labels, and more. In this section, we will rely on the tools we learned earlier to demonstrate how Matplotlib and Seaborn work."
   ]
  },
  {
   "cell_type": "code",
   "execution_count": 50,
   "id": "237aca0a",
   "metadata": {
    "scrolled": false
   },
   "outputs": [],
   "source": [
    "# Setting the style\n",
    "sns.set_style('darkgrid')"
   ]
  },
  {
   "cell_type": "markdown",
   "id": "49f9a3ce",
   "metadata": {},
   "source": [
    "### Line Plot"
   ]
  },
  {
   "cell_type": "markdown",
   "id": "11906b85",
   "metadata": {},
   "source": [
    "As an introduction to plotting, we shall first show how to create a line plot using Matplotlib. Before we can plot, let's use Numpy to build some data. For this example, we will generate evenly spaced numbers starting at 1 and incrementing by 0.1 upto 10 for our x-axis. For our y-axis, we will plot the sin of these numbers."
   ]
  },
  {
   "cell_type": "code",
   "execution_count": 51,
   "id": "faa92fa2",
   "metadata": {},
   "outputs": [],
   "source": [
    "# Generating some data for the independent variable x\n",
    "x = np.arange(0, 10, 0.1)\n",
    "y = np.sin(x)"
   ]
  },
  {
   "cell_type": "markdown",
   "id": "124763fb",
   "metadata": {},
   "source": [
    "To plot this data, we shall use the Matplotlib function `plot()`. This function takes in two arrays, `x` and `y`, and plots them as a line graph. Using the other Matplotlib functions below, we can add a title and labels both the x- and y-axis. Finally, the `show()` function is called at the end to display the plot."
   ]
  },
  {
   "cell_type": "code",
   "execution_count": 52,
   "id": "45eb7b49",
   "metadata": {},
   "outputs": [
    {
     "data": {
      "image/png": "[encoded data removed]",
      "text/plain": [
       "<Figure size 640x480 with 1 Axes>"
      ]
     },
     "metadata": {},
     "output_type": "display_data"
    }
   ],
   "source": [
    "# Using Matplotlib to create a line plot\n",
    "plt.plot(x, y)\n",
    "\n",
    "# Adding axis labels and a title\n",
    "plt.title('Line Plot using Matplotlib')\n",
    "plt.xlabel('x')\n",
    "plt.ylabel('y')\n",
    "\n",
    "# Showing the plot\n",
    "plt.show()"
   ]
  },
  {
   "cell_type": "markdown",
   "id": "01029bba",
   "metadata": {},
   "source": [
    "Since the Seaborn library is built on top of Matplotlib, the code to create the same plot in Seaborn is very similar. This is shown below."
   ]
  },
  {
   "cell_type": "code",
   "execution_count": 53,
   "id": "dd46d050",
   "metadata": {},
   "outputs": [
    {
     "data": {
      "image/png": "[encoded data removed]",
      "text/plain": [
       "<Figure size 640x480 with 1 Axes>"
      ]
     },
     "metadata": {},
     "output_type": "display_data"
    }
   ],
   "source": [
    "# Using Seaborn to create a line plot\n",
    "sns.lineplot(x = x, y = y)\n",
    "\n",
    "# Adding axis labels and a title\n",
    "plt.title('Line Plot using Seaborn')\n",
    "plt.xlabel('x')\n",
    "plt.ylabel('y')\n",
    "\n",
    "# Showing the plot\n",
    "plt.show()"
   ]
  },
  {
   "cell_type": "markdown",
   "id": "6fec021a",
   "metadata": {},
   "source": [
    "Since the code is so similar for plotting using Seaborn and Matplotlib, the rest of the plots will only be made with one of the libraries. Next, let's look at how to create a scatter plot using Matplotlib."
   ]
  },
  {
   "cell_type": "markdown",
   "id": "c53aafaf",
   "metadata": {},
   "source": [
    "### Scatter Plot"
   ]
  },
  {
   "cell_type": "markdown",
   "id": "883a6066",
   "metadata": {},
   "source": [
    "For this scatter plot, we will need some data. Using Numpy, we will generate two arrays `x` and `y`. The `x` array will be filled with 100 randomly generated numbers from a standard normal distribution. The `y` array will then be the `x` array plus the values of another 100 randomly generated numbers from a standard normal distribution."
   ]
  },
  {
   "cell_type": "code",
   "execution_count": 54,
   "id": "261a7bdf",
   "metadata": {},
   "outputs": [],
   "source": [
    "# Generating random data from N(0, 1)\n",
    "np.random.seed(0)\n",
    "x = np.random.normal(size = 100)\n",
    "y = x + np.random.normal(size = 100)"
   ]
  },
  {
   "cell_type": "markdown",
   "id": "5e27d308",
   "metadata": {},
   "source": [
    "To plot this data, we shall use the Matplotlib function `scatter()`. This function takes in two arrays, `x` and `y`, and then pairs up each `(x, y)` observation and plots them as points. To complete the plot, we add a title and axes labels."
   ]
  },
  {
   "cell_type": "code",
   "execution_count": 55,
   "id": "565cbba9",
   "metadata": {},
   "outputs": [
    {
     "data": {
      "image/png": "[encoded data removed]",
      "text/plain": [
       "<Figure size 640x480 with 1 Axes>"
      ]
     },
     "metadata": {},
     "output_type": "display_data"
    }
   ],
   "source": [
    "# Plotting the data points\n",
    "plt.scatter(x, y)\n",
    "\n",
    "# Adding labels and title to the plot\n",
    "plt.title('Scatter Plot')\n",
    "plt.xlabel('x')\n",
    "plt.ylabel('y')\n",
    "\n",
    "# Showing the plot\n",
    "plt.show()"
   ]
  },
  {
   "cell_type": "markdown",
   "id": "7d0bcb4a",
   "metadata": {},
   "source": [
    "### Histogram"
   ]
  },
  {
   "cell_type": "markdown",
   "id": "a26980df",
   "metadata": {},
   "source": [
    "In order to build a histogram, we will use Numpy to generate an array `x` containing a 1000 random observations from the standard normal distribution."
   ]
  },
  {
   "cell_type": "code",
   "execution_count": 56,
   "id": "84d170f2",
   "metadata": {},
   "outputs": [],
   "source": [
    "# Generating random data from N(0, 1)\n",
    "x = np.random.normal(size = 1000)"
   ]
  },
  {
   "cell_type": "markdown",
   "id": "76dfbe5a",
   "metadata": {},
   "source": [
    "To build a histogram of this data, we will use the Seaborn function `histplot()`. This function takes in only one array `x` and plots the frequency distribution of the `x` values. For this example, I have also included kernal density estimate by passing the argument `kde = True`, which is really just an estimate for the distribution of `x`. To complete the plot, we add a title and axes labels."
   ]
  },
  {
   "cell_type": "code",
   "execution_count": 57,
   "id": "2116573c",
   "metadata": {},
   "outputs": [
    {
     "data": {
      "image/png": "[encoded data removed]",
      "text/plain": [
       "<Figure size 640x480 with 1 Axes>"
      ]
     },
     "metadata": {},
     "output_type": "display_data"
    }
   ],
   "source": [
    "# Creating histogram using seaborn\n",
    "sns.histplot(x, kde = True)\n",
    "\n",
    "# Adding a title and axis labels\n",
    "plt.title('Histogram')\n",
    "plt.xlabel('x')\n",
    "plt.ylabel(\"Frequency\")\n",
    "\n",
    "# Showing plot\n",
    "plt.show()"
   ]
  },
  {
   "cell_type": "markdown",
   "id": "117dc752",
   "metadata": {},
   "source": [
    "### Bar Plot"
   ]
  },
  {
   "cell_type": "markdown",
   "id": "4b906f1d",
   "metadata": {},
   "source": [
    "To build a barplot, we will build a data frame with categories and their corresponding values."
   ]
  },
  {
   "cell_type": "code",
   "execution_count": 58,
   "id": "baa6b36f",
   "metadata": {},
   "outputs": [],
   "source": [
    "# Creating a dataframe\n",
    "barplot_df = pd.DataFrame({'Category': ['A', 'B', 'C', 'D'],\n",
    "                           'Value': [5, 6, 7, 8]})"
   ]
  },
  {
   "cell_type": "markdown",
   "id": "e1ce4045",
   "metadata": {},
   "source": [
    "We can then use the Seaborn function `barplot()` to build a bar plot of this data. The function takes in arguments `x` and `y` to specify which columns in the data frame will be used for the x-axis and y-axis, respectively. The last arugment `data` is used to specify the data frame we want to use. For this example, the x-axis corresponds to the `Category` column, and the y-axis corresponds to the `Value` column. To complete the plot, we add a title and axes labels."
   ]
  },
  {
   "cell_type": "code",
   "execution_count": 59,
   "id": "458c6a57",
   "metadata": {},
   "outputs": [
    {
     "data": {
      "image/png": "[encoded data removed]",
      "text/plain": [
       "<Figure size 640x480 with 1 Axes>"
      ]
     },
     "metadata": {},
     "output_type": "display_data"
    }
   ],
   "source": [
    "# Creating bar plot\n",
    "sns.barplot(x = 'Category', y = 'Value', data = barplot_df)\n",
    "\n",
    "# Adding title and axes labels\n",
    "plt.title('Category vs Value')\n",
    "plt.xlabel('Category')\n",
    "plt.ylabel('Value')\n",
    "\n",
    "# Showing the plot\n",
    "plt.show()"
   ]
  },
  {
   "cell_type": "markdown",
   "id": "42fd830a",
   "metadata": {},
   "source": [
    "### Real World Example: Titanic Dataset"
   ]
  },
  {
   "cell_type": "markdown",
   "id": "7bfdede4",
   "metadata": {},
   "source": [
    "To demonstrate how useful these libraries can be, we will visualize data from a real world example. First, let's import our dataset."
   ]
  },
  {
   "cell_type": "code",
   "execution_count": 60,
   "id": "9a7b1ab8",
   "metadata": {},
   "outputs": [],
   "source": [
    "# Loading data into a Pandas data frame\n",
    "titanic_df = pd.read_csv('https://raw.githubusercontent.com/michaelritacco/Python-Workshop/main/titanic.csv')\n",
    "# titanic_df = pd.read_csv('titanic.csv')"
   ]
  },
  {
   "cell_type": "markdown",
   "id": "79974317",
   "metadata": {},
   "source": [
    "For this example, we will use the titanic dataset. Let's take a look at the data before plotting."
   ]
  },
  {
   "cell_type": "code",
   "execution_count": 61,
   "id": "730b44ab",
   "metadata": {},
   "outputs": [
    {
     "data": {
      "text/html": [
       "<div>\n",
       "<style scoped>\n",
       "    .dataframe tbody tr th:only-of-type {\n",
       "        vertical-align: middle;\n",
       "    }\n",
       "\n",
       "    .dataframe tbody tr th {\n",
       "        vertical-align: top;\n",
       "    }\n",
       "\n",
       "    .dataframe thead th {\n",
       "        text-align: right;\n",
       "    }\n",
       "</style>\n",
       "<table border=\"1\" class=\"dataframe\">\n",
       "  <thead>\n",
       "    <tr style=\"text-align: right;\">\n",
       "      <th></th>\n",
       "      <th>PassengerId</th>\n",
       "      <th>Survived</th>\n",
       "      <th>Pclass</th>\n",
       "      <th>Name</th>\n",
       "      <th>Sex</th>\n",
       "      <th>Age</th>\n",
       "      <th>SibSp</th>\n",
       "      <th>Parch</th>\n",
       "      <th>Ticket</th>\n",
       "      <th>Fare</th>\n",
       "      <th>Cabin</th>\n",
       "      <th>Embarked</th>\n",
       "    </tr>\n",
       "  </thead>\n",
       "  <tbody>\n",
       "    <tr>\n",
       "      <th>0</th>\n",
       "      <td>1</td>\n",
       "      <td>0</td>\n",
       "      <td>3</td>\n",
       "      <td>Braund, Mr. Owen Harris</td>\n",
       "      <td>male</td>\n",
       "      <td>22.0</td>\n",
       "      <td>1</td>\n",
       "      <td>0</td>\n",
       "      <td>A/5 21171</td>\n",
       "      <td>7.2500</td>\n",
       "      <td>NaN</td>\n",
       "      <td>S</td>\n",
       "    </tr>\n",
       "    <tr>\n",
       "      <th>1</th>\n",
       "      <td>2</td>\n",
       "      <td>1</td>\n",
       "      <td>1</td>\n",
       "      <td>Cumings, Mrs. John Bradley (Florence Briggs Th...</td>\n",
       "      <td>female</td>\n",
       "      <td>38.0</td>\n",
       "      <td>1</td>\n",
       "      <td>0</td>\n",
       "      <td>PC 17599</td>\n",
       "      <td>71.2833</td>\n",
       "      <td>C85</td>\n",
       "      <td>C</td>\n",
       "    </tr>\n",
       "    <tr>\n",
       "      <th>2</th>\n",
       "      <td>3</td>\n",
       "      <td>1</td>\n",
       "      <td>3</td>\n",
       "      <td>Heikkinen, Miss. Laina</td>\n",
       "      <td>female</td>\n",
       "      <td>26.0</td>\n",
       "      <td>0</td>\n",
       "      <td>0</td>\n",
       "      <td>STON/O2. 3101282</td>\n",
       "      <td>7.9250</td>\n",
       "      <td>NaN</td>\n",
       "      <td>S</td>\n",
       "    </tr>\n",
       "    <tr>\n",
       "      <th>3</th>\n",
       "      <td>4</td>\n",
       "      <td>1</td>\n",
       "      <td>1</td>\n",
       "      <td>Futrelle, Mrs. Jacques Heath (Lily May Peel)</td>\n",
       "      <td>female</td>\n",
       "      <td>35.0</td>\n",
       "      <td>1</td>\n",
       "      <td>0</td>\n",
       "      <td>113803</td>\n",
       "      <td>53.1000</td>\n",
       "      <td>C123</td>\n",
       "      <td>S</td>\n",
       "    </tr>\n",
       "    <tr>\n",
       "      <th>4</th>\n",
       "      <td>5</td>\n",
       "      <td>0</td>\n",
       "      <td>3</td>\n",
       "      <td>Allen, Mr. William Henry</td>\n",
       "      <td>male</td>\n",
       "      <td>35.0</td>\n",
       "      <td>0</td>\n",
       "      <td>0</td>\n",
       "      <td>373450</td>\n",
       "      <td>8.0500</td>\n",
       "      <td>NaN</td>\n",
       "      <td>S</td>\n",
       "    </tr>\n",
       "  </tbody>\n",
       "</table>\n",
       "</div>"
      ],
      "text/plain": [
       "   PassengerId  Survived  Pclass  \\\n",
       "0            1         0       3   \n",
       "1            2         1       1   \n",
       "2            3         1       3   \n",
       "3            4         1       1   \n",
       "4            5         0       3   \n",
       "\n",
       "                                                Name     Sex   Age  SibSp  \\\n",
       "0                            Braund, Mr. Owen Harris    male  22.0      1   \n",
       "1  Cumings, Mrs. John Bradley (Florence Briggs Th...  female  38.0      1   \n",
       "2                             Heikkinen, Miss. Laina  female  26.0      0   \n",
       "3       Futrelle, Mrs. Jacques Heath (Lily May Peel)  female  35.0      1   \n",
       "4                           Allen, Mr. William Henry    male  35.0      0   \n",
       "\n",
       "   Parch            Ticket     Fare Cabin Embarked  \n",
       "0      0         A/5 21171   7.2500   NaN        S  \n",
       "1      0          PC 17599  71.2833   C85        C  \n",
       "2      0  STON/O2. 3101282   7.9250   NaN        S  \n",
       "3      0            113803  53.1000  C123        S  \n",
       "4      0            373450   8.0500   NaN        S  "
      ]
     },
     "execution_count": 61,
     "metadata": {},
     "output_type": "execute_result"
    }
   ],
   "source": [
    "# Printing first 5 rows of the data\n",
    "titanic_df.head()"
   ]
  },
  {
   "cell_type": "markdown",
   "id": "4a411d54",
   "metadata": {},
   "source": [
    "From the output above, we can see that each person has a `Survived` and `Sex` attribute. Using this information, we could investigate the distribution of `Survival` depending whether a passenger is male or female."
   ]
  },
  {
   "cell_type": "markdown",
   "id": "c17a78b3",
   "metadata": {},
   "source": [
    "To do this, we can use the Seaborn `countplot()` function. This function takes an argument `x` which specifies which columns in the dataframe will be used for the x-axis. Additionally, this function takes in a second argument `hue` which tells the function to plot the data seperately for each category of the `hue`. In this example the `hue` can take on values Male or Female, so `countplot()` will produce two seperate bars of counts for Male or Female."
   ]
  },
  {
   "cell_type": "code",
   "execution_count": 62,
   "id": "b46f975f",
   "metadata": {},
   "outputs": [
    {
     "data": {
      "image/png": "[encoded data removed]",
      "text/plain": [
       "<Figure size 640x480 with 1 Axes>"
      ]
     },
     "metadata": {},
     "output_type": "display_data"
    }
   ],
   "source": [
    "# Choose the variable for the x axis\n",
    "x = 'Survived'\n",
    "\n",
    "# Choose the hue variable\n",
    "hue = 'Sex'\n",
    "\n",
    "# Making a count plot\n",
    "sns.countplot(x = x, hue = hue, data = titanic_df)\n",
    "\n",
    "# Adding a title\n",
    "plt.title('Count Plot of Survival Counts with Sex as the hue')\n",
    "\n",
    "# Showing the plot\n",
    "plt.show()"
   ]
  },
  {
   "cell_type": "markdown",
   "id": "600ebf3d",
   "metadata": {},
   "source": [
    "**Exercise:** Can you plot a histogram of `Age` with `Survived` as the hue?"
   ]
  },
  {
   "cell_type": "code",
   "execution_count": 64,
   "id": "2e1904fd",
   "metadata": {},
   "outputs": [
    {
     "data": {
      "image/png": "[encoded data removed]",
      "text/plain": [
       "<Figure size 640x480 with 1 Axes>"
      ]
     },
     "metadata": {},
     "output_type": "display_data"
    }
   ],
   "source": [
    "# Choose the variable for the x axis\n",
    "x = 'Age'\n",
    "\n",
    "# Choose the hue variable\n",
    "hue = 'Survived'\n",
    "\n",
    "# Making the histogram\n",
    "sns.histplot(x = x, hue = hue, data = titanic_df)\n",
    "\n",
    "# Adding a title\n",
    "plt.title('Histogram of Age with Survived as the hue')\n",
    "\n",
    "# Showing the plot\n",
    "plt.show()"
   ]
  },
  {
   "cell_type": "code",
   "execution_count": null,
   "id": "791615cb",
   "metadata": {},
   "outputs": [],
   "source": []
  }
 ],
 "metadata": {
  "kernelspec": {
   "display_name": "Python 3 (ipykernel)",
   "language": "python",
   "name": "python3"
  },
  "language_info": {
   "codemirror_mode": {
    "name": "ipython",
    "version": 3
   },
   "file_extension": ".py",
   "mimetype": "text/x-python",
   "name": "python",
   "nbconvert_exporter": "python",
   "pygments_lexer": "ipython3",
   "version": "3.9.13"
  }
 },
 "nbformat": 4,
 "nbformat_minor": 5
}
